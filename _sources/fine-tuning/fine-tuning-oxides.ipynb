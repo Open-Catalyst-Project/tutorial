{
 "cells": [
  {
   "cell_type": "code",
   "execution_count": 7,
   "id": "275cc96c-02c6-4c85-b6d5-a34209e15ff3",
   "metadata": {},
   "outputs": [
    {
     "data": {
      "text/plain": [
       "(['SnO2', 'IrO2', 'RuO2', 'TiO2', 'VO2'],\n",
       " ['rutile', 'pyrite', 'columbite', 'brookite', 'fluorite', 'anatase'])"
      ]
     },
     "execution_count": 7,
     "metadata": {},
     "output_type": "execute_result"
    }
   ],
   "source": [
    "import json\n",
    "import numpy as np\n",
    "import matplotlib.pyplot as plt\n",
    "from ase import Atoms\n",
    "\n",
    "with open('supporting-information.json', 'rb') as f:\n",
    "     d = json.loads(f.read())\n",
    "        \n",
    "\n",
    "oxides = list(d.keys())\n",
    "polymorphs = list(d['TiO2'].keys())\n",
    "oxides, polymorphs"
   ]
  },
  {
   "cell_type": "code",
   "execution_count": 8,
   "id": "62272174-ce79-40f3-90da-b72ae8bbf7d9",
   "metadata": {},
   "outputs": [
    {
     "data": {
      "text/plain": [
       "(Atoms(symbols='Ti2O4', pbc=True, cell=[4.3789762519649225, 4.3789762519649225, 2.864091775985314], tags=...),\n",
       " -56.230672,\n",
       " [[0.0, 0.0, 0.0],\n",
       "  [0.0, 0.0, 0.0],\n",
       "  [-0.001264, -0.001264, 0.0],\n",
       "  [0.001264, 0.001264, 0.0],\n",
       "  [-0.001264, 0.001264, 0.0],\n",
       "  [0.001264, -0.001264, 0.0]])"
      ]
     },
     "execution_count": 8,
     "metadata": {},
     "output_type": "execute_result"
    }
   ],
   "source": [
    "c = d['TiO2']['rutile']['PBE']['EOS']['calculations'][0]\n",
    "atoms = Atoms(symbols=c['atoms']['symbols'],\n",
    "                 positions=c['atoms']['positions'],\n",
    "             cell=c['atoms']['cell'],\n",
    "             pbc=c['atoms']['pbc'])\n",
    "atoms.set_tags(np.ones(len(atoms)))\n",
    "atoms, c['data']['total_energy'], c['data']['forces']"
   ]
  },
  {
   "cell_type": "code",
   "execution_count": 9,
   "id": "70f7babf-f0cb-42f3-a3d6-b8d4bc1b694b",
   "metadata": {},
   "outputs": [],
   "source": [
    "from ase.db import connect\n",
    "from ase.calculators.singlepoint import SinglePointCalculator\n",
    "\n",
    "! rm -fr oxides.db\n",
    "db = connect('oxides.db')"
   ]
  },
  {
   "cell_type": "code",
   "execution_count": 10,
   "id": "d54b598a-2d68-4818-8b9f-b72c96ff28ac",
   "metadata": {},
   "outputs": [],
   "source": [
    "for oxide in oxides:\n",
    "    for polymorph in polymorphs:\n",
    "        for c in d[oxide][polymorph]['PBE']['EOS']['calculations']:\n",
    "            atoms = Atoms(symbols=c['atoms']['symbols'],\n",
    "                          positions=c['atoms']['positions'],\n",
    "                          cell=c['atoms']['cell'],\n",
    "                          pbc=c['atoms']['pbc'])\n",
    "            atoms.set_tags(np.ones(len(atoms)))\n",
    "            calc = SinglePointCalculator(atoms, \n",
    "                                         energy=c['data']['total_energy'],\n",
    "                                         forces=c['data']['forces'])\n",
    "            atoms.set_calculator(calc)\n",
    "            db.write(atoms)"
   ]
  },
  {
   "cell_type": "markdown",
   "id": "f45a2e84-f50c-4ab5-8bb6-ad96e023faed",
   "metadata": {},
   "source": [
    "Let's see what we made."
   ]
  },
  {
   "cell_type": "code",
   "execution_count": 11,
   "id": "f2b208c5-e5f0-4052-b860-27446a19e974",
   "metadata": {},
   "outputs": [
    {
     "name": "stdout",
     "output_type": "stream",
     "text": [
      "id|age|formula|calculator| energy|natoms| fmax|pbc| volume|charge|   mass\r\n",
      " 1| 4s|Sn2O4  |unknown   |-41.359|     6|0.045|TTT| 64.258| 0.000|301.416\r\n",
      " 2| 4s|Sn2O4  |unknown   |-41.853|     6|0.025|TTT| 66.526| 0.000|301.416\r\n",
      " 3| 4s|Sn2O4  |unknown   |-42.199|     6|0.010|TTT| 68.794| 0.000|301.416\r\n",
      " 4| 4s|Sn2O4  |unknown   |-42.419|     6|0.006|TTT| 71.062| 0.000|301.416\r\n",
      " 5| 4s|Sn2O4  |unknown   |-42.534|     6|0.011|TTT| 73.330| 0.000|301.416\r\n",
      " 6| 4s|Sn2O4  |unknown   |-42.562|     6|0.029|TTT| 75.598| 0.000|301.416\r\n",
      " 7| 4s|Sn2O4  |unknown   |-42.518|     6|0.033|TTT| 77.866| 0.000|301.416\r\n",
      " 8| 4s|Sn2O4  |unknown   |-42.415|     6|0.010|TTT| 80.134| 0.000|301.416\r\n",
      " 9| 4s|Sn2O4  |unknown   |-42.266|     6|0.006|TTT| 82.402| 0.000|301.416\r\n",
      "10| 4s|Sn2O4  |unknown   |-42.083|     6|0.017|TTT| 84.670| 0.000|301.416\r\n",
      "11| 4s|Sn4O8  |unknown   |-81.424|    12|0.012|TTT|117.473| 0.000|602.832\r\n",
      "12| 4s|Sn4O8  |unknown   |-82.437|    12|0.005|TTT|121.620| 0.000|602.832\r\n",
      "13| 4s|Sn4O8  |unknown   |-83.147|    12|0.015|TTT|125.766| 0.000|602.832\r\n",
      "14| 4s|Sn4O8  |unknown   |-83.599|    12|0.047|TTT|129.912| 0.000|602.832\r\n",
      "15| 4s|Sn4O8  |unknown   |-83.831|    12|0.081|TTT|134.058| 0.000|602.832\r\n",
      "16| 4s|Sn4O8  |unknown   |-83.898|    12|0.001|TTT|138.204| 0.000|602.832\r\n",
      "17| 4s|Sn4O8  |unknown   |-83.805|    12|0.001|TTT|142.350| 0.000|602.832\r\n",
      "18| 4s|Sn4O8  |unknown   |-83.586|    12|0.002|TTT|146.496| 0.000|602.832\r\n",
      "19| 4s|Sn4O8  |unknown   |-83.262|    12|0.002|TTT|150.642| 0.000|602.832\r\n",
      "20| 4s|Sn4O8  |unknown   |-82.851|    12|0.013|TTT|154.788| 0.000|602.832\r\n",
      "Rows: 295 (showing first 20)\r\n"
     ]
    }
   ],
   "source": [
    "! ase db oxides.db"
   ]
  },
  {
   "cell_type": "code",
   "execution_count": 6,
   "id": "5a010cc5-d514-47f0-ab36-7dc2406a51b9",
   "metadata": {},
   "outputs": [],
   "source": [
    "! wget -q -nc https://dl.fbaipublicfiles.com/opencatalystproject/models/2022_09/oc22/s2ef/gnoc_oc22_oc20_all_s2ef.pt"
   ]
  },
  {
   "cell_type": "markdown",
   "id": "9816e9d4",
   "metadata": {},
   "source": [
    "We need to split the ase-db into three separate databases, one for training (80%), one for testing (10%) and one for validation. We generate a list of ids and then shuffle them. Then we write the first 80% into train.db, the next 10% into test.db, and the remaining into val.db."
   ]
  },
  {
   "cell_type": "code",
   "execution_count": 47,
   "id": "649f574f",
   "metadata": {},
   "outputs": [
    {
     "data": {
      "text/plain": [
       "array([271,  97, 101,  27,  20, 261, 194, 264,  71, 133, 267, 162, 160,\n",
       "        76, 214, 246,   1, 243, 119, 293,  51,  90, 185, 136, 281, 189,\n",
       "       280,  69, 218,   4, 292,  13,  93, 253, 270,   3,  81,  65,  47,\n",
       "       169, 198,  52,  39,  62, 269, 222,  25, 144, 237, 226,  57, 166,\n",
       "       286, 154, 254, 170, 181, 139,  99, 228, 145, 244, 279, 223, 186,\n",
       "       248, 192, 132,  83, 233, 277,  55, 282,  63, 146, 240, 105, 147,\n",
       "       262, 221,  31, 256, 199, 116,  48,  59,   8,  28, 245, 149,  61,\n",
       "        85, 150, 135, 274, 128, 294, 272, 165,  38, 102, 263, 257, 172,\n",
       "       182, 206,  21, 258, 127, 220, 151,  34,   9,  89, 203, 295, 204,\n",
       "       113, 208,  26, 167,  30,  78,  80, 287,  96, 108, 193,  67,  10,\n",
       "       249, 173,  60, 250, 229,   5, 212,  49,  68, 190,  95, 153, 180,\n",
       "       125,  73, 134, 291, 159,  33, 156, 157, 231, 174, 122, 288, 131,\n",
       "       109,  82, 163, 210,  56, 175,  53, 236,  87,  29,  12, 107, 255,\n",
       "       121, 141, 290, 217, 129, 260, 289,  92, 179,  40, 202, 148,  14,\n",
       "       197, 211,   6,  86, 177, 187, 215, 219, 230, 259, 252, 234, 205,\n",
       "        79,  45, 120, 273, 115, 171,  84, 124,  46, 104,  91, 200,  19,\n",
       "       242, 207,  88, 201, 143, 112,  74, 227,  22, 152,  94, 216, 268,\n",
       "       188,  66, 278, 100,  72, 266,  70, 155, 232, 126, 178, 225, 285,\n",
       "       118,  75, 239,  11, 117, 251, 158,  64, 224, 184,   2,  43, 123,\n",
       "        18, 168, 283,  54,  77, 265,  41, 247, 235, 209,  32, 130, 106,\n",
       "       213,  44, 275, 161,  58,  24,  16, 110, 138, 191,  17, 241, 111,\n",
       "       196,  35,  36, 183,  50,   7, 103, 176, 140, 284,  42,  23, 276,\n",
       "       164, 114, 238,  15, 142, 195,  37,  98, 137])"
      ]
     },
     "execution_count": 47,
     "metadata": {},
     "output_type": "execute_result"
    }
   ],
   "source": [
    "import numpy as np\n",
    "rng = np.random.default_rng(seed=42)\n",
    "\n",
    "ids = np.arange(1, 296)\n",
    "rng.shuffle(ids)\n",
    "ids "
   ]
  },
  {
   "cell_type": "code",
   "execution_count": 49,
   "id": "452fdf53",
   "metadata": {},
   "outputs": [],
   "source": [
    "train_end = int(len(ids) * 0.8)\n",
    "test_end = train_end + int(len(ids) * 0.1)\n",
    "\n",
    "! rm -fr train.db test.db val.db\n",
    "\n",
    "train = connect('train.db')\n",
    "test = connect('test.db')\n",
    "val = connect('val.db')\n",
    "\n",
    "for _id in ids[0:train_end]:\n",
    "    row = db.get(id=int(_id))\n",
    "    train.write(row.toatoms())\n",
    "    \n",
    "for _id in ids[train_end:test_end]:\n",
    "    row = db.get(id=int(_id))\n",
    "    test.write(row.toatoms())\n",
    "    \n",
    "for _id in ids[test_end:]:\n",
    "    row = db.get(id=int(_id))\n",
    "    val.write(row.toatoms())\n",
    "    "
   ]
  },
  {
   "cell_type": "code",
   "execution_count": null,
   "id": "0833e5c0",
   "metadata": {},
   "outputs": [],
   "source": []
  }
 ],
 "metadata": {
  "kernelspec": {
   "display_name": "Python 3 (ipykernel)",
   "language": "python",
   "name": "python3"
  },
  "language_info": {
   "codemirror_mode": {
    "name": "ipython",
    "version": 3
   },
   "file_extension": ".py",
   "mimetype": "text/x-python",
   "name": "python",
   "nbconvert_exporter": "python",
   "pygments_lexer": "ipython3",
   "version": "3.9.15"
  }
 },
 "nbformat": 4,
 "nbformat_minor": 5
}
