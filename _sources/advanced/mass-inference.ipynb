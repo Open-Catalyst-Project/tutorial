{
 "cells": [
  {
   "cell_type": "markdown",
   "id": "1a118bdf-bbf0-46c5-8f2f-6293f5a2f2c4",
   "metadata": {},
   "source": [
    "Mass inference\n",
    "------------------\n",
    "\n",
    "The ASE calculator is not necessarily the most efficient way to run a lot of computations. It is better to do a \"mass inference\" using a command line utility. We illustrate how to do that here. \n",
    "\n",
    "In this paper we computed about 10K different gold structures:\n",
    "\n",
    "Boes, J. R., Groenenboom, M. C., Keith, J. A., & Kitchin, J. R. (2016). Neural network and Reaxff comparison for Au properties. Int. J. Quantum Chem., 116(13), 979–987. http://dx.doi.org/10.1002/qua.25115\n",
    "\n",
    "You can retrieve the dataset below. In this notebook we learn how to do \"mass inference\" without an ASE calculator. You do this by creating a config.yml file, and running the `main.py` command line utility."
   ]
  },
  {
   "cell_type": "code",
   "execution_count": 1,
   "id": "75cdb139-6e8b-4365-8078-f56520b67c78",
   "metadata": {},
   "outputs": [],
   "source": [
    "! [ ! -f data.db ]  && wget https://figshare.com/ndownloader/files/11948267 -O data.db "
   ]
  },
  {
   "cell_type": "code",
   "execution_count": 2,
   "id": "3b4e49cf-ce92-4027-9bf0-52d24d6ddfc0",
   "metadata": {},
   "outputs": [
    {
     "name": "stdout",
     "output_type": "stream",
     "text": [
      "id|age|user |formula|calculator|  energy|natoms| fmax|pbc|  volume|charge|     mass\r\n",
      " 1| 9y|jboes|Au55   |vasp      |-170.717|    55|0.164|TTT|3304.114| 0.000|10833.161\r\n",
      " 2| 9y|jboes|Au55   |vasp      |-170.717|    55|0.165|TTT|3304.114| 0.000|10833.161\r\n",
      " 3| 9y|jboes|Au55   |vasp      |-170.718|    55|0.167|TTT|3304.114| 0.000|10833.161\r\n",
      " 4| 9y|jboes|Au55   |vasp      |-170.721|    55|0.170|TTT|3304.114| 0.000|10833.161\r\n",
      " 5| 9y|jboes|Au55   |vasp      |-170.732|    55|0.207|TTT|3304.114| 0.000|10833.161\r\n",
      " 6| 9y|jboes|Au55   |vasp      |-170.762|    55|0.310|TTT|3304.114| 0.000|10833.161\r\n",
      " 7| 9y|jboes|Au55   |vasp      |-170.816|    55|0.507|TTT|3304.114| 0.000|10833.161\r\n",
      " 8| 9y|jboes|Au55   |vasp      |-170.905|    55|0.664|TTT|3304.114| 0.000|10833.161\r\n",
      " 9| 9y|jboes|Au55   |vasp      |-171.034|    55|0.640|TTT|3304.114| 0.000|10833.161\r\n",
      "10| 9y|jboes|Au55   |vasp      |-171.149|    55|0.522|TTT|3304.114| 0.000|10833.161\r\n",
      "11| 9y|jboes|Au55   |vasp      |-171.270|    55|0.177|TTT|3304.114| 0.000|10833.161\r\n",
      "12| 9y|jboes|Au55   |vasp      |-171.282|    55|0.154|TTT|3304.114| 0.000|10833.161\r\n",
      "13| 9y|jboes|Au55   |vasp      |-171.279|    55|0.163|TTT|3304.114| 0.000|10833.161\r\n",
      "14| 9y|jboes|Au55   |vasp      |-171.268|    55|0.189|TTT|3304.114| 0.000|10833.161\r\n",
      "15| 9y|jboes|Au55   |vasp      |-171.243|    55|0.329|TTT|3304.114| 0.000|10833.161\r\n",
      "16| 9y|jboes|Au55   |vasp      |-170.717|    55|0.172|TTT|3304.114| 0.000|10833.161\r\n",
      "17| 9y|jboes|Au55   |vasp      |-170.717|    55|0.172|TTT|3304.114| 0.000|10833.161\r\n",
      "18| 9y|jboes|Au55   |vasp      |-170.717|    55|0.172|TTT|3304.114| 0.000|10833.161\r\n",
      "19| 9y|jboes|Au55   |vasp      |-170.167|    55|0.182|TTT|3304.114| 0.000|10833.161\r\n",
      "20| 9y|jboes|Au55   |vasp      |-170.167|    55|0.182|TTT|3304.114| 0.000|10833.161\r\n",
      "Rows: 9972 (showing first 20)\r\n",
      "Keys: config, group, identity, neural_energy, reax_energy, structure, surf, tag, train_set, volume\r\n"
     ]
    }
   ],
   "source": [
    "! ase db data.db"
   ]
  },
  {
   "cell_type": "markdown",
   "id": "a7b3eae8-3e91-4073-9774-074d2c7f1c00",
   "metadata": {},
   "source": [
    "You have to choose a checkpoint to start with. The newer checkpoints may require too much memory for this environment. "
   ]
  },
  {
   "cell_type": "code",
   "execution_count": 3,
   "id": "ce92d477-01d5-4edd-a291-f968ceb4c05f",
   "metadata": {},
   "outputs": [
    {
     "name": "stdout",
     "output_type": "stream",
     "text": [
      "See https://github.com/Open-Catalyst-Project/ocp/blob/main/MODELS.md for more details.\n",
      "CGCNN 200k\n",
      "CGCNN 2M\n",
      "CGCNN 20M\n",
      "CGCNN All\n",
      "DimeNet 200k\n",
      "DimeNet 2M\n",
      "SchNet 200k\n",
      "SchNet 2M\n",
      "SchNet 20M\n",
      "SchNet All\n",
      "DimeNet++ 200k\n",
      "DimeNet++ 2M\n",
      "DimeNet++ 20M\n",
      "DimeNet++ All\n",
      "SpinConv 2M\n",
      "SpinConv All\n",
      "GemNet-dT 2M\n",
      "GemNet-dT All\n",
      "PaiNN All\n",
      "GemNet-OC 2M\n",
      "GemNet-OC All\n",
      "GemNet-OC All+MD\n",
      "GemNet-OC-Large All+MD\n",
      "SCN 2M\n",
      "SCN-t4-b2 2M\n",
      "SCN All+MD\n",
      "eSCN-L4-M2-Lay12 2M\n",
      "eSCN-L6-M2-Lay12 2M\n",
      "eSCN-L6-M2-Lay12 All+MD\n",
      "eSCN-L6-M3-Lay20 All+MD\n",
      "EquiformerV2 (83M) 2M\n",
      "EquiformerV2 (31M) All+MD\n",
      "EquiformerV2 (153M) All+MD\n",
      "GemNet-dT OC22\n",
      "GemNet-OC OC22\n",
      "GemNet-OC OC20+OC22\n",
      "GemNet-OC trained with `enforce_max_neighbors_strictly=False` #467 OC20+OC22\n",
      "GemNet-OC OC20->OC22\n",
      "Copy one of these keys to get_checkpoint(key) to download it.\n"
     ]
    }
   ],
   "source": [
    "%run ../ocp-tutorial.ipynb\n",
    "list_checkpoints()"
   ]
  },
  {
   "cell_type": "code",
   "execution_count": 4,
   "id": "1da932d6-75c7-4a5a-8ef2-04a0f38519df",
   "metadata": {},
   "outputs": [
    {
     "data": {
      "text/plain": [
       "'gndt_oc22_all_s2ef.pt'"
      ]
     },
     "execution_count": 4,
     "metadata": {},
     "output_type": "execute_result"
    }
   ],
   "source": [
    "checkpoint = get_checkpoint('GemNet-dT OC22')\n",
    "checkpoint"
   ]
  },
  {
   "cell_type": "markdown",
   "id": "c3de7add",
   "metadata": {},
   "source": [
    "We have to update our configuration yml file with the dataset. It is necessary to specify the train and test set for some reason. "
   ]
  },
  {
   "cell_type": "code",
   "execution_count": 5,
   "id": "f3e92cb2-ee44-4bfc-a264-10e6508294f0",
   "metadata": {},
   "outputs": [
    {
     "name": "stderr",
     "output_type": "stream",
     "text": [
      "WARNING:root:Unable to identify OCP trainer, defaulting to `forces`. Specify the `trainer` argument into OCPCalculator if otherwise.\n",
      "WARNING:root:Scale factor comment not found in model\n"
     ]
    },
    {
     "data": {
      "text/plain": [
       "PosixPath('/home/jovyan/shared-scratch/jkitchin/tutorial/ocp-tutorial/advanced/config.yml')"
      ]
     },
     "execution_count": 5,
     "metadata": {},
     "output_type": "execute_result"
    }
   ],
   "source": [
    "yml = generate_yml_config(checkpoint, 'config.yml',\n",
    "                   delete=['cmd', 'logger', 'task', 'model_attributes',\n",
    "                           'dataset', 'slurm'],\n",
    "                   update={'amp': True,\n",
    "                           'gpus': 1,\n",
    "                           'task.dataset': 'ase_db',\n",
    "                           'task.prediction_dtype': 'float32',\n",
    "                        \n",
    "                           # Train data\n",
    "                           'dataset.train.src': 'data.db',\n",
    "                           'dataset.train.a2g_args.r_energy': False,\n",
    "                           'dataset.train.a2g_args.r_forces': False,\n",
    "                           'dataset.train.select_args.selection': 'natoms>5,xc=PBE',\n",
    "                            # Test data - prediction only so no regression\n",
    "                           'dataset.test.src': 'data.db',\n",
    "                           'dataset.test.a2g_args.r_energy': False,\n",
    "                           'dataset.test.a2g_args.r_forces': False,\n",
    "                           'dataset.test.select_args.selection': 'natoms>5,xc=PBE',\n",
    "                          })\n",
    "\n",
    "yml"
   ]
  },
  {
   "cell_type": "markdown",
   "id": "8b3a44fa",
   "metadata": {},
   "source": [
    "It is a good idea to redirect the output to a file. If the output gets too large here, the notebook may fail to save. Normally I would use a redirect like `2&>1`, but this does not work with the main.py method. An alternative here is to open a terminal and run it there."
   ]
  },
  {
   "cell_type": "code",
   "execution_count": 6,
   "id": "0795138f-3329-4e30-8218-92048f51609e",
   "metadata": {},
   "outputs": [],
   "source": [
    "%%capture inference\n",
    "import time\n",
    "t0 = time.time()\n",
    "! python {ocp_main()} --mode predict --config-yml {yml} --checkpoint {checkpoint} --amp\n",
    "print(f'Elapsed time = {time.time() - t0:1.1f} seconds')"
   ]
  },
  {
   "cell_type": "code",
   "execution_count": 7,
   "id": "a6e43687",
   "metadata": {},
   "outputs": [
    {
     "name": "stdout",
     "output_type": "stream",
     "text": [
      "2023-07-30 17:41:22 (INFO): Total time taken: 69.08263731002808\r",
      "\r\n"
     ]
    }
   ],
   "source": [
    "! grep \"Total time taken:\" 'mass-inference.txt'"
   ]
  },
  {
   "cell_type": "code",
   "execution_count": 8,
   "id": "262344cf",
   "metadata": {},
   "outputs": [],
   "source": [
    "with open('mass-inference.txt', 'wb') as f:\n",
    "    f.write(inference.stdout.encode('utf-8')) "
   ]
  },
  {
   "cell_type": "markdown",
   "id": "e8640426",
   "metadata": {},
   "source": [
    "The mass inference approach takes 1-2 minutes to run. See the output [here](./mass-inference.txt)."
   ]
  },
  {
   "cell_type": "code",
   "execution_count": 9,
   "id": "d65cc4da",
   "metadata": {},
   "outputs": [],
   "source": [
    "results = ! grep \"  results_dir:\" mass-inference.txt\n",
    "d = results[0].split(':')[-1].strip()"
   ]
  },
  {
   "cell_type": "code",
   "execution_count": 10,
   "id": "32e30538-846f-47b0-a1fd-eda93fb5e817",
   "metadata": {},
   "outputs": [
    {
     "data": {
      "text/plain": [
       "['ids', 'energy', 'forces', 'chunk_idx']"
      ]
     },
     "execution_count": 10,
     "metadata": {},
     "output_type": "execute_result"
    }
   ],
   "source": [
    "import numpy as np\n",
    "results = np.load(f'{d}/s2ef_predictions.npz', allow_pickle=True)\n",
    "results.files"
   ]
  },
  {
   "cell_type": "markdown",
   "id": "2e68ac6a",
   "metadata": {},
   "source": [
    "It is not obvious, but the data from mass inference is not in the same order. We have to get an id from the mass inference, and then \"resort\" the results so they are in the same order."
   ]
  },
  {
   "cell_type": "code",
   "execution_count": 11,
   "id": "63c94458-0d35-4662-a02c-095bd530566f",
   "metadata": {},
   "outputs": [
    {
     "data": {
      "text/plain": [
       "array([   0,    1,    2, ..., 8488, 8489, 8490])"
      ]
     },
     "execution_count": 11,
     "metadata": {},
     "output_type": "execute_result"
    }
   ],
   "source": [
    "inds = np.array([int(r.split('_')[0]) for r in results['ids']])\n",
    "sind = np.argsort(inds)\n",
    "inds[sind]"
   ]
  },
  {
   "cell_type": "markdown",
   "id": "37bb4d43",
   "metadata": {},
   "source": [
    "To compare this with the results, we need to get the energy data from the ase db."
   ]
  },
  {
   "cell_type": "code",
   "execution_count": 12,
   "id": "d65a9d3a-a312-45cc-87b8-475f0cf023e6",
   "metadata": {},
   "outputs": [],
   "source": [
    "from ase.db import connect\n",
    "db = connect('data.db')\n",
    "\n",
    "energies = np.array([row.energy for row in db.select('natoms>5,xc=PBE')])\n",
    "natoms = np.array([row.natoms for row in db.select('natoms>5,xc=PBE')])"
   ]
  },
  {
   "cell_type": "markdown",
   "id": "9fdf70b4",
   "metadata": {},
   "source": [
    "Now, we can see the predictions. The are only ok here; that is not surprising, the data set has lots of Au configurations that have never been seen by this model. Fine-tuning would certainly help improve this."
   ]
  },
  {
   "cell_type": "code",
   "execution_count": 13,
   "id": "d3f9d51a-4511-418e-b5f9-156cfd7aff70",
   "metadata": {},
   "outputs": [
    {
     "data": {
      "image/png": "[encoded data removed]",
      "text/plain": [
       "<Figure size 640x480 with 1 Axes>"
      ]
     },
     "metadata": {},
     "output_type": "display_data"
    }
   ],
   "source": [
    "import matplotlib.pyplot as plt\n",
    "\n",
    "plt.plot(energies / natoms, results['energy'][sind] / natoms, 'b.')\n",
    "plt.xlabel('DFT')\n",
    "plt.ylabel('OCP');"
   ]
  },
  {
   "cell_type": "markdown",
   "id": "8c1ce7c8-99e8-420d-9286-a90aaaa8defc",
   "metadata": {},
   "source": [
    "# The ASE calculator way\n",
    "\n",
    "We include this here just to show that:\n",
    "\n",
    "1. We get the same results\n",
    "2. That this is much slower."
   ]
  },
  {
   "cell_type": "code",
   "execution_count": 14,
   "id": "59b67c5a-f089-4cfc-a513-571f97cc72da",
   "metadata": {},
   "outputs": [
    {
     "name": "stderr",
     "output_type": "stream",
     "text": [
      "WARNING:root:Unable to identify OCP trainer, defaulting to `forces`. Specify the `trainer` argument into OCPCalculator if otherwise.\n"
     ]
    },
    {
     "name": "stdout",
     "output_type": "stream",
     "text": [
      "amp: true\n",
      "cmd:\n",
      "  checkpoint_dir: /home/jovyan/shared-scratch/jkitchin/tutorial/ocp-tutorial/advanced/checkpoints/2023-07-30-18-01-36\n",
      "  commit: 3973c79\n",
      "  identifier: ''\n",
      "  logs_dir: /home/jovyan/shared-scratch/jkitchin/tutorial/ocp-tutorial/advanced/logs/tensorboard/2023-07-30-18-01-36\n",
      "  print_every: 100\n",
      "  results_dir: /home/jovyan/shared-scratch/jkitchin/tutorial/ocp-tutorial/advanced/results/2023-07-30-18-01-36\n",
      "  seed: null\n",
      "  timestamp_id: 2023-07-30-18-01-36\n",
      "dataset: null\n",
      "gpus: 1\n",
      "logger: tensorboard\n",
      "model: gemnet_t\n",
      "model_attributes:\n",
      "  activation: silu\n",
      "  cbf:\n",
      "    name: spherical_harmonics\n",
      "  cutoff: 6.0\n",
      "  direct_forces: true\n",
      "  emb_size_atom: 512\n",
      "  emb_size_bil_trip: 64\n",
      "  emb_size_cbf: 16\n",
      "  emb_size_edge: 512\n",
      "  emb_size_rbf: 16\n",
      "  emb_size_trip: 64\n",
      "  envelope:\n",
      "    exponent: 5\n",
      "    name: polynomial\n",
      "  extensive: true\n",
      "  max_neighbors: 50\n",
      "  num_after_skip: 2\n",
      "  num_atom: 3\n",
      "  num_before_skip: 1\n",
      "  num_blocks: 3\n",
      "  num_concat: 1\n",
      "  num_radial: 128\n",
      "  num_spherical: 7\n",
      "  otf_graph: true\n",
      "  output_init: HeOrthogonal\n",
      "  rbf:\n",
      "    name: gaussian\n",
      "  regress_forces: true\n",
      "noddp: false\n",
      "optim:\n",
      "  batch_size: 16\n",
      "  clip_grad_norm: 10\n",
      "  ema_decay: 0.999\n",
      "  energy_coefficient: 1\n",
      "  eval_batch_size: 16\n",
      "  eval_every: 5000\n",
      "  force_coefficient: 1\n",
      "  loss_energy: mae\n",
      "  loss_force: atomwisel2\n",
      "  lr_gamma: 0.8\n",
      "  lr_initial: 0.0005\n",
      "  lr_milestones:\n",
      "  - 64000\n",
      "  - 96000\n",
      "  - 128000\n",
      "  - 160000\n",
      "  - 192000\n",
      "  max_epochs: 80\n",
      "  num_workers: 2\n",
      "  optimizer: AdamW\n",
      "  optimizer_params:\n",
      "    amsgrad: true\n",
      "  warmup_steps: -1\n",
      "slurm:\n",
      "  additional_parameters:\n",
      "    constraint: volta32gb\n",
      "  cpus_per_task: 3\n",
      "  folder: /checkpoint/abhshkdz/ocp_oct1_logs/57864354\n",
      "  gpus_per_node: 8\n",
      "  job_id: '57864354'\n",
      "  job_name: gndt_oc22_s2ef\n",
      "  mem: 480GB\n",
      "  nodes: 2\n",
      "  ntasks_per_node: 8\n",
      "  partition: ocp\n",
      "  time: 4320\n",
      "task:\n",
      "  dataset: oc22_lmdb\n",
      "  eval_on_free_atoms: true\n",
      "  primary_metric: forces_mae\n",
      "  train_on_free_atoms: true\n",
      "trainer: forces\n",
      "\n"
     ]
    },
    {
     "name": "stderr",
     "output_type": "stream",
     "text": [
      "WARNING:root:Scale factor comment not found in model\n"
     ]
    }
   ],
   "source": [
    "from ocpmodels.common.relaxation.ase_utils import OCPCalculator\n",
    "calc = OCPCalculator(checkpoint=os.path.expanduser(checkpoint), cpu=False)"
   ]
  },
  {
   "cell_type": "code",
   "execution_count": 15,
   "id": "000b7b78-1535-417c-935f-c38ea039775b",
   "metadata": {},
   "outputs": [
    {
     "name": "stderr",
     "output_type": "stream",
     "text": [
      "8491it [14:53,  9.51it/s]"
     ]
    },
    {
     "name": "stdout",
     "output_type": "stream",
     "text": [
      "Elapsed time 9e+02 seconds\n"
     ]
    },
    {
     "name": "stderr",
     "output_type": "stream",
     "text": [
      "\n"
     ]
    }
   ],
   "source": [
    "import time\n",
    "from tqdm import tqdm\n",
    "t0 = time.time()\n",
    "OCP, DFT = [], []\n",
    "for row in tqdm(db.select('natoms>5,xc=PBE')):\n",
    "    atoms = row.toatoms()\n",
    "    atoms.set_calculator(calc)\n",
    "    DFT += [row.energy / len(atoms)]\n",
    "    OCP += [atoms.get_potential_energy() / len(atoms)]\n",
    "print(f'Elapsed time {time.time() - t0:1.1} seconds')"
   ]
  },
  {
   "cell_type": "markdown",
   "id": "6b4de3d4",
   "metadata": {},
   "source": [
    "This takes at least twice as long as the mass-inference approach above. It is conceptually simpler though, and does not require resorting."
   ]
  },
  {
   "cell_type": "code",
   "execution_count": 16,
   "id": "fb06eaf9-9aa2-4a82-a587-ac0fd9fc2d04",
   "metadata": {},
   "outputs": [
    {
     "data": {
      "image/png": "[encoded data removed]",
      "text/plain": [
       "<Figure size 640x480 with 1 Axes>"
      ]
     },
     "metadata": {},
     "output_type": "display_data"
    }
   ],
   "source": [
    "plt.plot(DFT, OCP, 'b.')\n",
    "plt.xlabel('DFT (eV/atom)')\n",
    "plt.ylabel('OCP (eV/atom)');"
   ]
  },
  {
   "cell_type": "markdown",
   "id": "7a4840ba",
   "metadata": {},
   "source": [
    "# Comparing ASE calculator and main.py\n",
    "\n",
    "The results should be the same. \n",
    "\n",
    "It is worth noting the default precision of predictions is float16 with main.py, but with the ASE calculator the default precision is float32. Supposedly you can specify `--task.prediction_dtype=float32` at the command line to or specify it in the config.yml like we do above, but as of the tutorial this does not resolve the issue.\n",
    "\n",
    "As noted above (see also [Issue 542](https://github.com/Open-Catalyst-Project/ocp/issues/542)), the ASE calculator and main.py use different precisions by default, which can lead to small differences. "
   ]
  },
  {
   "cell_type": "code",
   "execution_count": 17,
   "id": "52c88758",
   "metadata": {},
   "outputs": [
    {
     "data": {
      "text/plain": [
       "0.047432115622423936"
      ]
     },
     "execution_count": 17,
     "metadata": {},
     "output_type": "execute_result"
    }
   ],
   "source": [
    "np.mean(np.abs(results['energy'][sind] - OCP * natoms))  # MAE"
   ]
  },
  {
   "cell_type": "code",
   "execution_count": 18,
   "id": "a92277e0",
   "metadata": {},
   "outputs": [
    {
     "data": {
      "text/plain": [
       "(-2.0, 1.75)"
      ]
     },
     "execution_count": 18,
     "metadata": {},
     "output_type": "execute_result"
    }
   ],
   "source": [
    "np.min(results['energy'][sind] - OCP * natoms), np.max(results['energy'][sind] - OCP * natoms)"
   ]
  },
  {
   "cell_type": "code",
   "execution_count": 19,
   "id": "0c0919cb",
   "metadata": {},
   "outputs": [
    {
     "data": {
      "image/png": "[encoded data removed]",
      "text/plain": [
       "<Figure size 640x480 with 1 Axes>"
      ]
     },
     "metadata": {},
     "output_type": "display_data"
    }
   ],
   "source": [
    "plt.hist(results['energy'][sind] - OCP * natoms, bins=20);"
   ]
  },
  {
   "cell_type": "markdown",
   "id": "161c41f5",
   "metadata": {},
   "source": [
    "Here we see many of the differences are very small. 0.0078125 = 1 / 128, and these errors strongly suggest some kind of mixed precision is responsible for these differences. It is an open issue to remove them and identify where the cause is."
   ]
  },
  {
   "cell_type": "code",
   "execution_count": 20,
   "id": "41cc767c",
   "metadata": {},
   "outputs": [
    {
     "data": {
      "text/plain": [
       "array([-0.0078125,  0.       ,  0.       ,  0.       ,  0.       ,\n",
       "        0.0078125,  0.       ,  0.       ,  0.       ,  0.       ,\n",
       "        0.       ,  0.       ,  0.       ,  0.       ,  0.       ,\n",
       "        0.       ,  0.       ,  0.       ,  0.       ,  0.       ,\n",
       "        0.       ,  0.       ,  0.       ,  0.       ,  0.       ,\n",
       "        0.       ,  0.015625 ,  0.       , -0.015625 ,  0.       ,\n",
       "        0.       ,  0.015625 ,  0.       ,  0.       , -0.015625 ,\n",
       "        0.       ,  0.       ,  0.       ,  0.       ,  0.       ,\n",
       "        0.       ,  0.       ,  0.       ,  0.       ,  0.       ,\n",
       "        0.       ,  0.       ,  0.       ,  0.       ,  0.       ,\n",
       "        0.       ,  0.       ,  0.015625 ,  0.       ,  0.       ,\n",
       "        0.       ,  0.       ,  0.       ,  0.015625 ,  0.       ,\n",
       "       -0.015625 ,  0.       ,  0.       ,  0.       ,  0.       ,\n",
       "        0.       ,  0.       ,  0.       ,  0.       ,  0.       ,\n",
       "        0.       ,  0.       ,  0.       ,  0.       ,  0.       ,\n",
       "        0.       ,  0.       ,  0.       ,  0.       ,  0.       ,\n",
       "        0.       ,  0.       , -0.03125  ,  0.       , -0.015625 ,\n",
       "        0.       ,  0.       ,  0.       ,  0.015625 , -0.015625 ,\n",
       "        0.015625 ,  0.       ,  0.       ,  0.       , -0.015625 ,\n",
       "        0.       ,  0.015625 ,  0.       ,  0.       ,  0.       ,\n",
       "        0.       ,  0.       ,  0.       ,  0.       ,  0.       ,\n",
       "        0.015625 , -0.015625 ,  0.       ,  0.       ,  0.015625 ,\n",
       "        0.       ,  0.       ,  0.       ,  0.       ,  0.       ,\n",
       "        0.       ,  0.       ,  0.       ,  0.       ,  0.       ,\n",
       "       -0.015625 ,  0.       ,  0.       ,  0.       ,  0.       ,\n",
       "        0.       ,  0.       ,  0.       ,  0.       ,  0.       ,\n",
       "        0.015625 ,  0.       ,  0.       ,  0.       ,  0.       ,\n",
       "        0.       ,  0.015625 ,  0.       ,  0.       ,  0.       ,\n",
       "        0.       , -0.015625 , -0.015625 ,  0.       ,  0.015625 ,\n",
       "       -0.015625 ,  0.       ,  0.       ,  0.       ,  0.       ,\n",
       "        0.       ,  0.       ,  0.       ,  0.       ,  0.       ,\n",
       "        0.       ,  0.       ,  0.       ,  0.       ,  0.       ,\n",
       "        0.       ,  0.       ,  0.       , -0.015625 ,  0.       ,\n",
       "       -0.015625 ,  0.       ,  0.       ,  0.       ,  0.       ,\n",
       "        0.015625 ,  0.       ,  0.       ,  0.       ,  0.       ,\n",
       "        0.       , -0.03125  ,  0.       , -0.015625 , -0.015625 ,\n",
       "        0.015625 ,  0.       ,  0.       ,  0.       ,  0.       ,\n",
       "       -0.015625 ,  0.       ,  0.       ,  0.015625 ,  0.       ,\n",
       "        0.       ,  0.       ,  0.       ,  0.       ,  0.       ,\n",
       "        0.       ,  0.       ,  0.       ,  0.       ,  0.       ,\n",
       "        0.       ,  0.       ,  0.       ,  0.015625 ,  0.015625 ,\n",
       "        0.       ,  0.       ,  0.       ,  0.       , -0.015625 ,\n",
       "        0.       ,  0.       ,  0.015625 ,  0.       ,  0.       ,\n",
       "        0.       ,  0.       ,  0.       ,  0.       ,  0.       ,\n",
       "        0.       , -0.015625 ,  0.       ,  0.       ,  0.015625 ,\n",
       "        0.       ,  0.       ,  0.       ,  0.       ,  0.       ,\n",
       "        0.       ,  0.       , -0.015625 ,  0.       ,  0.       ,\n",
       "        0.       ,  0.       ,  0.       ,  0.       , -0.015625 ,\n",
       "        0.015625 ,  0.       ,  0.       ,  0.       ,  0.       ,\n",
       "        0.       ,  0.       ,  0.       ,  0.       ,  0.       ,\n",
       "       -0.015625 ,  0.015625 ,  0.       ,  0.       ,  0.       ,\n",
       "        0.       , -0.015625 ,  0.       ,  0.       ,  0.       ,\n",
       "        0.       ,  0.       , -0.015625 , -0.015625 ,  0.       ,\n",
       "        0.       ,  0.       ,  0.       ,  0.       ,  0.015625 ,\n",
       "        0.       ,  0.       ,  0.       ,  0.       ,  0.       ,\n",
       "        0.       ,  0.       ,  0.       ,  0.       ,  0.       ,\n",
       "        0.       ,  0.       ,  0.       ,  0.       ,  0.015625 ,\n",
       "        0.       ,  0.       ,  0.       , -0.015625 ,  0.       ,\n",
       "        0.       ,  0.       , -0.015625 ,  0.       ,  0.       ,\n",
       "        0.       , -0.015625 ,  0.       ,  0.       ,  0.       ,\n",
       "        0.       ,  0.       ,  0.       ,  0.       ,  0.       ,\n",
       "        0.       ,  0.       ,  0.       ,  0.       ,  0.       ,\n",
       "       -0.015625 ,  0.       ,  0.       ,  0.       ,  0.       ,\n",
       "        0.       ,  0.       ,  0.       ,  0.       ,  0.       ,\n",
       "        0.       ,  0.       ,  0.03125  ,  0.       ,  0.       ,\n",
       "        0.015625 ,  0.       ,  0.       ,  0.       ,  0.       ,\n",
       "        0.       ,  0.       ,  0.       ,  0.       , -0.015625 ,\n",
       "        0.       ,  0.       ,  0.       ,  0.       ,  0.       ,\n",
       "        0.       ,  0.       , -0.015625 ,  0.       ,  0.       ,\n",
       "        0.       ,  0.       , -0.015625 ,  0.03125  ,  0.       ,\n",
       "       -0.015625 ,  0.       ,  0.       ,  0.       ,  0.       ,\n",
       "        0.       ,  0.       ,  0.       ,  0.       ,  0.       ,\n",
       "        0.       ,  0.       ,  0.       ,  0.015625 ,  0.       ,\n",
       "        0.       , -0.015625 ,  0.       ,  0.015625 ,  0.       ,\n",
       "        0.       ,  0.       ,  0.       ,  0.015625 ,  0.       ,\n",
       "        0.       ,  0.       ,  0.       ,  0.       ,  0.       ,\n",
       "        0.015625 ,  0.       ,  0.03125  ,  0.       , -0.015625 ,\n",
       "        0.       , -0.03125  ,  0.       ,  0.       ,  0.       ,\n",
       "       -0.015625 ,  0.       ,  0.       ,  0.       , -0.03125  ,\n",
       "        0.015625 ,  0.       ,  0.015625 ,  0.       ,  0.       ])"
      ]
     },
     "execution_count": 20,
     "metadata": {},
     "output_type": "execute_result"
    }
   ],
   "source": [
    "(results['energy'][sind] - OCP * natoms)[0:400]"
   ]
  }
 ],
 "metadata": {
  "kernelspec": {
   "display_name": "Python 3 (ipykernel)",
   "language": "python",
   "name": "python3"
  },
  "language_info": {
   "codemirror_mode": {
    "name": "ipython",
    "version": 3
   },
   "file_extension": ".py",
   "mimetype": "text/x-python",
   "name": "python",
   "nbconvert_exporter": "python",
   "pygments_lexer": "ipython3",
   "version": "3.9.15"
  }
 },
 "nbformat": 4,
 "nbformat_minor": 5
}
