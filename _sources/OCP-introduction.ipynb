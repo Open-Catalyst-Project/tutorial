{
 "cells": [
  {
   "cell_type": "markdown",
   "id": "f2380e6d-34ff-4b60-91fe-7871ccfff250",
   "metadata": {},
   "source": [
    "Introduction to using OCP in molecular simulations\n",
    "==================================================\n",
    "\n",
    "To introduce OCP we start with using it to calculate adsorption energies for a simple, atomic adsorbate where we specify the site we want to the adsorption energy for. Conceptually, you do this like you would do it with density functional theory. You create a slab model for the surface, place an adsorbate on it as an initial guess, run a relaxation to get the lowest energy geometry, and then compute the adsorption energy using reference states for the adsorbate.\n",
    "\n",
    "You do have to be careful in the details though. Some OCP model/checkpoint combinations return a total energy like density functional theory would, but some return an \"adsorption energy\" directly. You have to know which one you are using. In this example, the model we use returns an \"adsorption energy\"."
   ]
  },
  {
   "cell_type": "markdown",
   "id": "a59b5a77-a143-4ca7-bf8e-943fc929705b",
   "metadata": {},
   "source": [
    "# Calculating adsorption energies\n",
    "\n",
    "Calculating adsorption energy with OCP\n",
    "Adsorption energies are different than you might be used to in OCP. For example, you may want the adsorption energy of oxygen, and conventionally you would compute that from this reaction:\n",
    "\n",
    "    1/2 O2 + slab -> slab-O\n",
    "\n",
    "This is not what is done in OCP. It is referenced to a different reaction\n",
    "\n",
    "    x CO + (x + y/2 - z) H2 + (z-x) H2O + w/2 N2 + * -> CxHyOzNw*\n",
    "\n",
    "Here, x=y=w=0, z=1, so the reaction ends up as\n",
    "\n",
    "    -H2 + H2O + * -> O*\n",
    "\n",
    "or alternatively,\n",
    "\n",
    "    H2O + * -> O* + H2\n",
    "\n",
    "It is possible through thermodynamic cycles to compute other reactions. If we can look up rH1 below and compute rH2\n",
    "\n",
    "    H2 + 1/2 O2 -> H2O  re1 = -3.03 eV\n",
    "    H2O + * -> O* + H2  re2  # Get from OCP as a direct calculation\n",
    "\n",
    "Then, the adsorption energy for\n",
    "\n",
    "    1/2O2 + * -> O*  \n",
    "\n",
    "is just re1 + re2.\n",
    "\n",
    "Based on https://atct.anl.gov/Thermochemical%20Data/version%201.118/species/?species_number=986, the formation energy of water is about -3.03 eV at standard state. You could also compute this using DFT.\n",
    "\n",
    "The first step is getting a checkpoint for the model we want to use. eSCN is currently the state of the art model [`arXiv`](https://arxiv.org/abs/2302.03655). This next cell will download the checkpoint if you don't have it already.\n",
    "\n",
    "The different models have different compute requirements. If you find your kernel is crashing, it probably means you have exceeded the allowed amount of memory. This checkpoint works fine in this example, but it may crash your kernel if you use it in the NRR example. "
   ]
  },
  {
   "cell_type": "code",
   "execution_count": 1,
   "id": "a3251eca-cb27-4ac6-9b23-5eccddb6e1c6",
   "metadata": {},
   "outputs": [],
   "source": [
    "%run ocp-tutorial.ipynb\n",
    "\n",
    "checkpoint = get_checkpoint('eSCN-L6-M3-Lay20 All+MD')"
   ]
  },
  {
   "cell_type": "markdown",
   "id": "991262bf",
   "metadata": {},
   "source": [
    "Next we load the checkpoint. The output is somewhat verbose, but it can be informative for debugging purposes. "
   ]
  },
  {
   "cell_type": "code",
   "execution_count": 2,
   "id": "d35d068c-412d-4669-830e-82dc6eef6d6c",
   "metadata": {},
   "outputs": [
    {
     "name": "stdout",
     "output_type": "stream",
     "text": [
      "amp: false\n",
      "cmd:\n",
      "  checkpoint_dir: /home/jovyan/shared-scratch/jkitchin/tutorial/ocp-tutorial/checkpoints/2023-07-18-12-48-00\n",
      "  commit: ab7833d\n",
      "  identifier: ''\n",
      "  logs_dir: /home/jovyan/shared-scratch/jkitchin/tutorial/ocp-tutorial/logs/tensorboard/2023-07-18-12-48-00\n",
      "  print_every: 100\n",
      "  results_dir: /home/jovyan/shared-scratch/jkitchin/tutorial/ocp-tutorial/results/2023-07-18-12-48-00\n",
      "  seed: null\n",
      "  timestamp_id: 2023-07-18-12-48-00\n",
      "dataset: null\n",
      "gpus: 1\n",
      "logger: tensorboard\n",
      "model: escn\n",
      "model_attributes:\n",
      "  basis_width_scalar: 2.0\n",
      "  cutoff: 12.0\n",
      "  distance_function: gaussian\n",
      "  hidden_channels: 384\n",
      "  lmax_list:\n",
      "  - 6\n",
      "  max_neighbors: 20\n",
      "  mmax_list:\n",
      "  - 3\n",
      "  num_layers: 20\n",
      "  num_sphere_samples: 128\n",
      "  otf_graph: true\n",
      "  regress_forces: true\n",
      "  sphere_channels: 160\n",
      "  use_pbc: true\n",
      "noddp: false\n",
      "optim:\n",
      "  batch_size: 3\n",
      "  clip_grad_norm: 20\n",
      "  ema_decay: 0.999\n",
      "  energy_coefficient: 4\n",
      "  eval_batch_size: 3\n",
      "  eval_every: 5000\n",
      "  force_coefficient: 100\n",
      "  loss_energy: mae\n",
      "  loss_force: l2mae\n",
      "  lr_gamma: 0.3\n",
      "  lr_initial: 0.0008\n",
      "  lr_milestones:\n",
      "  - 433166\n",
      "  - 541460\n",
      "  - 649750\n",
      "  max_epochs: 24\n",
      "  num_workers: 8\n",
      "  optimizer: AdamW\n",
      "  optimizer_params:\n",
      "    amsgrad: true\n",
      "  warmup_factor: 0.2\n",
      "  warmup_steps: 100\n",
      "slurm:\n",
      "  additional_parameters:\n",
      "    constraint: volta32gb\n",
      "  constraint: volta32gb\n",
      "  cpus_per_task: 9\n",
      "  folder: /checkpoint/zitnick/ocp_logs/4486283\n",
      "  gpus_per_node: 8\n",
      "  job_id: '4486283'\n",
      "  job_name: eSCN-L6-M3-Lay20-All-MD\n",
      "  mem: 480GB\n",
      "  nodes: 4\n",
      "  ntasks_per_node: 8\n",
      "  partition: ocp\n",
      "  time: 4320\n",
      "task:\n",
      "  dataset: trajectory_lmdb\n",
      "  description: Regressing to energies and forces for DFT trajectories from OCP\n",
      "  eval_on_free_atoms: true\n",
      "  grad_input: atomic forces\n",
      "  labels:\n",
      "  - potential energy\n",
      "  metric: mae\n",
      "  primary_metric: forces_mae\n",
      "  relax_opt:\n",
      "    alpha: 70.0\n",
      "    damping: 1.0\n",
      "    maxstep: 0.04\n",
      "    memory: 50\n",
      "    name: lbfgs\n",
      "    traj_dir: traj_id\n",
      "  relaxation_steps: 200\n",
      "  train_on_free_atoms: true\n",
      "  type: regression\n",
      "  write_pos: true\n",
      "trainer: forces\n",
      "\n"
     ]
    }
   ],
   "source": [
    "from ocpmodels.common.relaxation.ase_utils import OCPCalculator\n",
    "calc = OCPCalculator(checkpoint=os.path.expanduser(checkpoint), cpu=False)\n",
    "# calc = OCPCalculator(checkpoint=os.path.expanduser(checkpoint), cpu=True)"
   ]
  },
  {
   "cell_type": "markdown",
   "id": "a3e6b8ca",
   "metadata": {},
   "source": [
    "Next we can build a slab with an adsorbate on it. Here we use the ASE module to build a Pt slab. We use the experimental lattice constant that is the default. This can introduce some small errors with DFT since the lattice constant can differ by a few percent, and it is common to use DFT lattice constants. In this example, we do not constrain any layers."
   ]
  },
  {
   "cell_type": "code",
   "execution_count": 3,
   "id": "db5278c3",
   "metadata": {},
   "outputs": [],
   "source": [
    "from ase.build import fcc111, add_adsorbate\n",
    "from ase.optimize import BFGS"
   ]
  },
  {
   "cell_type": "code",
   "execution_count": 4,
   "id": "3c38b62d",
   "metadata": {},
   "outputs": [
    {
     "name": "stdout",
     "output_type": "stream",
     "text": [
      "      Step     Time          Energy         fmax\n",
      "BFGS:    0 12:47:20        1.749174        1.6849\n",
      "BFGS:    1 12:47:20        1.540854        0.9695\n",
      "BFGS:    2 12:47:20        1.353706        0.7205\n",
      "BFGS:    3 12:47:20        1.275858        0.7986\n",
      "BFGS:    4 12:47:20        0.855154        0.6865\n",
      "BFGS:    5 12:47:21        0.808235        0.4950\n",
      "BFGS:    6 12:47:21        0.778811        0.6077\n",
      "BFGS:    7 12:47:21        0.769219        0.7377\n",
      "BFGS:    8 12:47:21        0.750103        0.5009\n",
      "BFGS:    9 12:47:21        0.740156        0.1215\n",
      "BFGS:   10 12:47:21        0.733541        0.0419\n"
     ]
    },
    {
     "data": {
      "text/plain": [
       "-2.2964589285850523"
      ]
     },
     "execution_count": 4,
     "metadata": {},
     "output_type": "execute_result"
    }
   ],
   "source": [
    "re1 = -3.03\n",
    "\n",
    "slab = fcc111('Pt', size=(2, 2, 5), vacuum=10.0)\n",
    "add_adsorbate(slab, 'O', height=1.2, position='fcc')\n",
    "\n",
    "slab.set_calculator(calc)\n",
    "opt = BFGS(slab)\n",
    "opt.run(fmax=0.05, steps=100)\n",
    "slab_e = slab.get_potential_energy()\n",
    "slab_e + re1"
   ]
  },
  {
   "cell_type": "markdown",
   "id": "8a71f879",
   "metadata": {},
   "source": [
    "It is good practice to look at your geometries to make sure they are what you expect."
   ]
  },
  {
   "cell_type": "code",
   "execution_count": 5,
   "id": "9a8e2843",
   "metadata": {},
   "outputs": [
    {
     "data": {
      "image/png": "[encoded data removed]",
      "text/plain": [
       "<Figure size 640x480 with 2 Axes>"
      ]
     },
     "metadata": {},
     "output_type": "display_data"
    }
   ],
   "source": [
    "import matplotlib.pyplot as plt\n",
    "from ase.visualize.plot import plot_atoms\n",
    "\n",
    "fig, axs = plt.subplots(1, 2)\n",
    "plot_atoms(slab, axs[0]);\n",
    "plot_atoms(slab, axs[1], rotation=('-90x'))\n",
    "axs[0].set_axis_off()\n",
    "axs[1].set_axis_off()"
   ]
  },
  {
   "cell_type": "markdown",
   "id": "e54e67b6",
   "metadata": {},
   "source": [
    "How did we do? We need a reference point. In the paper below, there is an atomic adsorption energy for O on Pt(111) of about -4.264 eV. This is for the reaction O + * -> O*. To convert this to the dissociative adsorption energy, we have to add the reaction:\n",
    "\n",
    "    1/2 O2 -> O   D = -2.58 eV (expt)\n",
    "\n",
    "to get a comparable energy of about -1.68 eV. There is about ~0.6 eV difference to account for. The biggest difference is likely due to the differences in exchange-correlation functional. The reference data used the PBE functional, and eSCN was trained on *RPBE* data. To additional places where there are differences include:\n",
    "\n",
    "1. Difference in lattice constant\n",
    "2. The reference energy used for the experiment references. These can differ by up to 0.5 eV from comparable DFT calculations.\n",
    "\n",
    "These differences tend to be systematic, and you can calibrate and correct these, especially if you can augment these with your own DFT calculations. "
   ]
  },
  {
   "cell_type": "markdown",
   "id": "2021697d",
   "metadata": {},
   "source": [
    "### Exercises\n",
    "\n",
    "1. Explore the effect of the lattice constant on the adsorption energy.\n",
    "2. Try different sites, including the bridge and top sites. Compare the energies, and inspect the resulting geometries.\n"
   ]
  },
  {
   "cell_type": "markdown",
   "id": "126184b5",
   "metadata": {},
   "source": [
    "# Trends in adsorption energies across metals.\n",
    "\n",
    "Xu, Z., & Kitchin, J. R. (2014). Probing the coverage dependence of site and adsorbate configurational correlations on (111) surfaces of late transition metals. J. Phys. Chem. C, 118(44), 25597–25602. http://dx.doi.org/10.1021/jp508805h\n",
    "\n",
    "[Supporting information](https://pubs.acs.org/doi/suppl/10.1021/jp508805h/suppl_file/jp508805h_si_001.pdf).\n",
    "\n",
    "These are atomic adsorption energies:\n",
    "\n",
    "    O + * -> O*\n",
    "\n",
    "We have to do some work to get comparable numbers from OCP\n",
    "\n",
    "    H2 + 1/2 O2 -> H2O  re1 = -3.03 eV\n",
    "    H2O + * -> O* + H2  re2   # Get from OCP\n",
    "    O -> 1/2 O2         re3 = -2.58 eV\n",
    "\n",
    "Then, the adsorption energy for\n",
    "\n",
    "    O + * -> O*  \n",
    "\n",
    "is just re1 + re2 + re3.\n",
    "\n",
    "Here we just look at the fcc site on Pt. First, we get the data stored in the paper.\n",
    "\n",
    "Next we get the structures and compute their energies. Some subtle points are that we have to account for stoichiometry, and normalize the adsorption energy by the number of oxygens."
   ]
  },
  {
   "cell_type": "markdown",
   "id": "22b6d3a1",
   "metadata": {},
   "source": [
    "First we get a reference energy from the paper (PBE, 0.25 ML O on Pt(111))."
   ]
  },
  {
   "cell_type": "code",
   "execution_count": 6,
   "id": "fb67e58d",
   "metadata": {},
   "outputs": [
    {
     "data": {
      "text/plain": [
       "-4.263842000000002"
      ]
     },
     "execution_count": 6,
     "metadata": {},
     "output_type": "execute_result"
    }
   ],
   "source": [
    "import json\n",
    "\n",
    "with open('energies.json') as f:\n",
    "    edata = json.load(f)\n",
    "\n",
    "with open('structures.json') as f:\n",
    "    sdata = json.load(f)\n",
    "    \n",
    "edata['Pt']['O']['fcc']['0.25']"
   ]
  },
  {
   "cell_type": "markdown",
   "id": "f364930a",
   "metadata": {},
   "source": [
    "Next, we load data from the SI to get the geometry to start from."
   ]
  },
  {
   "cell_type": "code",
   "execution_count": 7,
   "id": "ceb0e2a7",
   "metadata": {},
   "outputs": [],
   "source": [
    "with open('structures.json') as f:\n",
    "    s = json.load(f)\n",
    "    \n",
    "sfcc = s['Pt']['O']['fcc']['0.25']    "
   ]
  },
  {
   "cell_type": "markdown",
   "id": "5c8ee6e0",
   "metadata": {},
   "source": [
    "Next, we construct the atomic geometry, run the geometry optimization, and compute the energy."
   ]
  },
  {
   "cell_type": "code",
   "execution_count": 8,
   "id": "93094694",
   "metadata": {},
   "outputs": [
    {
     "name": "stdout",
     "output_type": "stream",
     "text": [
      "      Step     Time          Energy         fmax\n",
      "BFGS:    0 12:47:23        0.607977        0.3249\n",
      "BFGS:    1 12:47:23        0.614224        0.2869\n",
      "BFGS:    2 12:47:23        0.597037        0.0965\n",
      "BFGS:    3 12:47:23        0.605701        0.0853\n",
      "BFGS:    4 12:47:23        0.594046        0.0805\n",
      "BFGS:    5 12:47:23        0.596878        0.0806\n",
      "BFGS:    6 12:47:24        0.595877        0.1267\n",
      "BFGS:    7 12:47:24        0.595115        0.0789\n",
      "BFGS:    8 12:47:24        0.588692        0.0252\n",
      "-5.021307990550994\n"
     ]
    }
   ],
   "source": [
    "re3 = -2.58  # O -> 1/2 O2         re3 = -2.58 eV\n",
    "\n",
    "from ase import Atoms\n",
    "\n",
    "atoms = Atoms(sfcc['symbols'],\n",
    "              positions=sfcc['pos'],\n",
    "              cell=sfcc['cell'],\n",
    "              pbc=True)\n",
    "    \n",
    "atoms.set_calculator(calc)\n",
    "opt = BFGS(atoms)\n",
    "\n",
    "opt.run(fmax=0.05, steps=100)\n",
    "re2 = atoms.get_potential_energy()\n",
    "    \n",
    "nO = 0\n",
    "for atom in atoms:\n",
    "    if atom.symbol == 'O':\n",
    "        nO += 1\n",
    "        re2 += re1 + re3\n",
    "\n",
    "print(re2 / nO)"
   ]
  },
  {
   "cell_type": "markdown",
   "id": "d53aa63b",
   "metadata": {},
   "source": [
    "## Site correlations\n",
    "\n",
    "This cell reproduces a portion of a figure in the paper. We compare oxygen adsorption energies in the fcc and hcp sites across metals and coverages. These adsorption energies are highly correlated with each other because the adsorption sites are so similar.\n",
    "\n",
    "At higher coverages, the agreement is not as good. This is likely because the model is extrapolating and needs to be fine-tuned."
   ]
  },
  {
   "cell_type": "code",
   "execution_count": 9,
   "id": "4efeabc6",
   "metadata": {},
   "outputs": [
    {
     "name": "stdout",
     "output_type": "stream",
     "text": [
      "Cu\n"
     ]
    },
    {
     "name": "stderr",
     "output_type": "stream",
     "text": [
      "100%|██████████| 1/1 [00:01<00:00,  1.56s/it]\n",
      "100%|██████████| 1/1 [00:00<00:00,  1.08it/s]\n"
     ]
    },
    {
     "name": "stdout",
     "output_type": "stream",
     "text": [
      "Ag\n"
     ]
    },
    {
     "name": "stderr",
     "output_type": "stream",
     "text": [
      "100%|██████████| 1/1 [00:01<00:00,  1.08s/it]\n",
      "100%|██████████| 1/1 [00:00<00:00,  1.30it/s]\n"
     ]
    },
    {
     "name": "stdout",
     "output_type": "stream",
     "text": [
      "Pd\n"
     ]
    },
    {
     "name": "stderr",
     "output_type": "stream",
     "text": [
      "100%|██████████| 1/1 [00:01<00:00,  1.39s/it]\n",
      "100%|██████████| 1/1 [00:01<00:00,  1.54s/it]\n"
     ]
    },
    {
     "name": "stdout",
     "output_type": "stream",
     "text": [
      "Pt\n"
     ]
    },
    {
     "name": "stderr",
     "output_type": "stream",
     "text": [
      "100%|██████████| 1/1 [00:01<00:00,  1.38s/it]\n",
      "100%|██████████| 1/1 [00:00<00:00,  1.28it/s]\n"
     ]
    },
    {
     "name": "stdout",
     "output_type": "stream",
     "text": [
      "Rh\n"
     ]
    },
    {
     "name": "stderr",
     "output_type": "stream",
     "text": [
      "100%|██████████| 1/1 [00:00<00:00,  2.11it/s]\n",
      "100%|██████████| 1/1 [00:00<00:00,  2.12it/s]\n"
     ]
    },
    {
     "name": "stdout",
     "output_type": "stream",
     "text": [
      "Ir\n"
     ]
    },
    {
     "name": "stderr",
     "output_type": "stream",
     "text": [
      "100%|██████████| 1/1 [00:00<00:00,  1.59it/s]\n",
      "100%|██████████| 1/1 [00:00<00:00,  1.61it/s]\n"
     ]
    },
    {
     "data": {
      "text/plain": [
       "'Elapsed time = 11.64729642868042 seconds'"
      ]
     },
     "execution_count": 9,
     "metadata": {},
     "output_type": "execute_result"
    }
   ],
   "source": [
    "from tqdm import tqdm\n",
    "import time\n",
    "\n",
    "t0 = time.time()\n",
    "\n",
    "data = {'fcc': [],\n",
    "       'hcp': []}\n",
    "\n",
    "refdata = {'fcc': [],\n",
    "           'hcp': []}\n",
    "\n",
    "\n",
    "for metal in ['Cu', 'Ag', 'Pd', 'Pt', 'Rh', 'Ir']:\n",
    "    print(metal)\n",
    "    for site in ['fcc', 'hcp']:\n",
    "        for adsorbate in ['O']:\n",
    "            for coverage in tqdm(['0.25']):\n",
    "                 \n",
    "                \n",
    "                entry = s[metal][adsorbate][site][coverage]\n",
    "                \n",
    "                atoms = Atoms(entry['symbols'],\n",
    "                              positions=entry['pos'],\n",
    "                              cell=entry['cell'],\n",
    "                              pbc=True)\n",
    "    \n",
    "                atoms.set_calculator(calc)\n",
    "                opt = BFGS(atoms, logfile=None)  # no logfile to suppress output\n",
    "\n",
    "                opt.run(fmax=0.05, steps=100)\n",
    "                \n",
    "                re2 = atoms.get_potential_energy()\n",
    "                nO = 0\n",
    "                for atom in atoms:\n",
    "                    if atom.symbol == 'O':\n",
    "                        nO += 1\n",
    "                        re2 += re1 + re3\n",
    "                \n",
    "                data[site] += [re2 / nO]\n",
    "                refdata[site] += [edata[metal][adsorbate][site][coverage]]  \n",
    "                \n",
    "f'Elapsed time = {time.time() - t0} seconds'            "
   ]
  },
  {
   "cell_type": "markdown",
   "id": "5279c7db",
   "metadata": {},
   "source": [
    "First, we compare the computed data and reference data. There is a systematic difference of about 0.5 eV due to the difference between RPBE and PBE functionals, and other subtle differences like lattice constant differences and reference energy differences. This is pretty typical, and an expected deviation."
   ]
  },
  {
   "cell_type": "code",
   "execution_count": 10,
   "id": "f2f0e226",
   "metadata": {},
   "outputs": [
    {
     "data": {
      "image/png": "[encoded data removed]",
      "text/plain": [
       "<Figure size 640x480 with 1 Axes>"
      ]
     },
     "metadata": {},
     "output_type": "display_data"
    }
   ],
   "source": [
    "plt.plot(refdata['fcc'], data['fcc'], 'r.', label='fcc')\n",
    "plt.plot(refdata['hcp'], data['hcp'], 'b.', label='hcp')\n",
    "plt.plot([-5.5, -3.5], [-5.5, -3.5], 'k-')\n",
    "plt.xlabel('Ref. data (DFT)')\n",
    "plt.ylabel('OCP prediction');"
   ]
  },
  {
   "cell_type": "markdown",
   "id": "bf4808b7",
   "metadata": {},
   "source": [
    "Next we compare the correlation between the hcp and fcc sites. Here we see the same trends. The data falls below the parity line because the hcp sites tend to be a little weaker binding than the fcc sites."
   ]
  },
  {
   "cell_type": "code",
   "execution_count": 11,
   "id": "10fc26fc",
   "metadata": {},
   "outputs": [
    {
     "data": {
      "image/png": "[encoded data removed]",
      "text/plain": [
       "<Figure size 640x480 with 1 Axes>"
      ]
     },
     "metadata": {},
     "output_type": "display_data"
    }
   ],
   "source": [
    "plt.plot(refdata['hcp'], refdata['fcc'], 'r.')\n",
    "plt.plot(data['hcp'], data['fcc'], '.')\n",
    "plt.plot([-6, -1], [-6, -1], 'k-')\n",
    "plt.xlabel('$H_{ads, hcp}$')\n",
    "plt.ylabel('$H_{ads, fcc}$')\n",
    "plt.legend(['DFT (PBE)', 'OCP']);"
   ]
  },
  {
   "cell_type": "markdown",
   "id": "3d3ebb31",
   "metadata": {},
   "source": [
    "### Exercises\n",
    "\n",
    "1. You can also explore a few other adsorbates: C, H, N. \n",
    "2. Explore the higher coverages. The deviations from the reference data are expected to be higher, but relative differences tend to be better. You probably need fine tuning to improve this performance. This data set doesn't have forces though, so it isn't practical to do it here."
   ]
  },
  {
   "cell_type": "markdown",
   "id": "7e38cc56-409b-4fcc-be66-7727ef602ba6",
   "metadata": {},
   "source": [
    "# Next steps\n",
    "\n",
    "In the next step, we consider some more complex adsorbates in nitrogen reduction, and how we can leverage OCP to automate the search for the most stable adsorbate geometry. See [the next step](./NRR/NRR_example.ipynb)."
   ]
  }
 ],
 "metadata": {
  "kernelspec": {
   "display_name": "Python 3 (ipykernel)",
   "language": "python",
   "name": "python3"
  },
  "language_info": {
   "codemirror_mode": {
    "name": "ipython",
    "version": 3
   },
   "file_extension": ".py",
   "mimetype": "text/x-python",
   "name": "python",
   "nbconvert_exporter": "python",
   "pygments_lexer": "ipython3",
   "version": "3.9.15"
  }
 },
 "nbformat": 4,
 "nbformat_minor": 5
}
