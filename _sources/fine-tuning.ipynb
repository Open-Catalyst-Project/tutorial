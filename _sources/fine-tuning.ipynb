{
 "cells": [
  {
   "cell_type": "markdown",
   "id": "b4479db9-89f0-45fe-8d65-2ea3638d7280",
   "metadata": {},
   "source": [
    "# Create the training data"
   ]
  },
  {
   "cell_type": "code",
   "execution_count": 51,
   "id": "b3fc26bc-6d5c-48ae-b417-7030a4c2abcb",
   "metadata": {},
   "outputs": [],
   "source": [
    "import json\n",
    "\n",
    "with open('energies.json') as f:\n",
    "    edata = json.load(f)\n",
    "\n",
    "with open('structures.json') as f:\n",
    "    sdata = json.load(f)\n",
    "    \n",
    "coverages = ['0.25', '0.5', '0.75', '1.0']\n",
    "metals = ['Pt', 'Ag', 'Ir', 'Au', 'Pd', 'Rh', 'Cu']\n",
    "\n",
    "! rm -fr coverages.db\n",
    "\n",
    "from ase.atoms import Atoms\n",
    "from ase.calculators.singlepoint import SinglePointCalculator\n",
    "\n",
    "from ase.db import connect\n",
    "db = connect('coverages.db')\n",
    "\n",
    "for metal in metals:\n",
    "    for coverage in coverages:\n",
    "        struc = sdata[metal]['O']['fcc'][coverage]\n",
    "        ene = edata[metal]['O']['fcc'][coverage]  # this is an adsorption energy per oxygen\n",
    "\n",
    "        # we convert this to the energy that OCP will predict\n",
    "        no = 0\n",
    "        for sym in struc['symbols']:\n",
    "            if sym == 'O':\n",
    "                no += 1\n",
    "        ene *= no\n",
    "        re3 = -2.58  # O -> 1/2 O2         re3 = -2.58 eV\n",
    "        re1 = -3.03\n",
    "\n",
    "        for i in range(no):\n",
    "            ene -= re1 + re3\n",
    "\n",
    "        atoms = Atoms(struc['symbols'], positions=struc['pos'], cell=struc['cell'], pbc=True)\n",
    "        calc = SinglePointCalculator(atoms, energy=ene, forces=[[0, 0, 0]] * len(atoms))\n",
    "        atoms.set_calculator(calc)\n",
    "        db.write(atoms, y_relaxed=ene)\n",
    "                             "
   ]
  },
  {
   "cell_type": "markdown",
   "id": "997789db-68c5-429b-8451-605f4fe52f34",
   "metadata": {},
   "source": [
    "Training is done at the command line."
   ]
  },
  {
   "cell_type": "code",
   "execution_count": 33,
   "id": "5aa23dbc-b7ce-4f80-b3be-519dd9dee46c",
   "metadata": {},
   "outputs": [
    {
     "data": {
      "text/plain": [
       "[[0, 0, 0], [0, 0, 0], [0, 0, 0]]"
      ]
     },
     "execution_count": 33,
     "metadata": {},
     "output_type": "execute_result"
    }
   ],
   "source": [
    "[[0, 0,0]] *3"
   ]
  },
  {
   "cell_type": "code",
   "execution_count": 23,
   "id": "5f431cc7-5eae-41ff-b909-3d0432344984",
   "metadata": {},
   "outputs": [
    {
     "data": {
      "text/plain": [
       "PosixPath('/home/mambauser/ocp/main.py')"
      ]
     },
     "execution_count": 23,
     "metadata": {},
     "output_type": "execute_result"
    }
   ],
   "source": [
    "from pathlib import Path\n",
    "import ocpmodels as om\n",
    "Path(om.__file__).parent.parent / \"main.py\""
   ]
  },
  {
   "cell_type": "markdown",
   "id": "b31dff24-eef1-4812-b206-25111cd05cd7",
   "metadata": {},
   "source": [
    "We are using the checkpoint `escn_l6_m3_lay20_all_md_s2ef`."
   ]
  },
  {
   "cell_type": "code",
   "execution_count": 30,
   "id": "59b7ce62-7ddb-4cd0-b12c-1b5f5a86e0c6",
   "metadata": {},
   "outputs": [
    {
     "data": {
      "text/plain": [
       "PosixPath('/home/mambauser/ocp/configs/s2ef/all/escn/eSCN-L6-M2-Lay12-All-MD.yml')"
      ]
     },
     "execution_count": 30,
     "metadata": {},
     "output_type": "execute_result"
    }
   ],
   "source": [
    "import os\n",
    "Path(om.__file__).parent.parent / 'configs/s2ef/all/escn/eSCN-L6-M2-Lay12-All-MD.yml'"
   ]
  },
  {
   "cell_type": "code",
   "execution_count": 31,
   "id": "babc4465-5a44-4473-86b5-33e7971ceca1",
   "metadata": {},
   "outputs": [
    {
     "data": {
      "text/plain": [
       "'params.yml'"
      ]
     },
     "execution_count": 31,
     "metadata": {},
     "output_type": "execute_result"
    }
   ],
   "source": [
    "import shutil\n",
    "shutil.copy(Path(om.__file__).parent.parent / 'configs/s2ef/all/escn/eSCN-L6-M2-Lay12-All-MD.yml', 'params.yml')"
   ]
  },
  {
   "cell_type": "code",
   "execution_count": 32,
   "id": "8f5b2cbb-606a-4e03-bdc9-2ebd99ff9c9e",
   "metadata": {},
   "outputs": [
    {
     "name": "stdout",
     "output_type": "stream",
     "text": [
      "Appending to params.yml\n"
     ]
    }
   ],
   "source": [
    "%%writefile -a params.yml\n",
    "\n",
    "task:\n",
    "  dataset: ase_db\n",
    "  \n",
    "dataset:\n",
    "  train:\n",
    "    src: coverages.db # The path/address to your ASE DB\n",
    "    connect_args:\n",
    "      # Keyword arguments for ase.db.connect()\n",
    "    select_args:\n",
    "      # Keyword arguments for ase.db.select()\n",
    "      # These can be used to query/filter the ASE DB\n",
    "    a2g_args:\n",
    "      r_energy: True\n",
    "      r_forces: False\n",
    "      # Set these if you want to train on energy/forces\n",
    "      # Energy/force information must be in the ASE DB!\n",
    "    keep_in_memory: True # Keeping the dataset in memory reduces random reads and is extremely fast, but this is only feasible for relatively small datasets!\n",
    "  val:\n",
    "    src:\n",
    "    a2g_args:\n",
    "      r_energy: True\n",
    "      r_forces: True\n",
    "  test:\n",
    "    src:\n",
    "    a2g_args:\n",
    "      r_energy: False\n",
    "      r_forces: False\n",
    "      # It is not necessary to have energy or forces if you are just making predictions.\n"
   ]
  },
  {
   "cell_type": "code",
   "execution_count": 20,
   "id": "36da929a-3793-4013-b543-e30d921f0c6c",
   "metadata": {},
   "outputs": [
    {
     "name": "stdout",
     "output_type": "stream",
     "text": [
      "DATASET.md\t\t  TRAIN.md\t  env.yml\t       scripts\n",
      "DATASET_PER_ADSORBATE.md  configs\t  licenses\t       setup.py\n",
      "INSTALL.md\t\t  docs\t\t  main.py\t       tests\n",
      "LICENSE.md\t\t  env.common.yml  ocp_models.egg-info  tutorials\n",
      "MODELS.md\t\t  env.cpu.yml\t  ocpmodels\n",
      "README.md\t\t  env.gpu.yml\t  pyproject.toml\n"
     ]
    }
   ],
   "source": [
    "! python /home/mambauser/ocp/main.py --mode train --config-yml params.yml"
   ]
  },
  {
   "cell_type": "code",
   "execution_count": 41,
   "id": "cfc4168a-a448-4850-9d37-a607e9c937fb",
   "metadata": {},
   "outputs": [
    {
     "data": {
      "text/plain": [
       "'dataset:\\n  train:\\n    a2g_args:\\n      r_energy: true\\n      r_forces: false\\n    keep_in_memory: true\\n    src: /home/mambauser/tutorial/ocp-tutorial/coverages.db\\nincludes:\\n- configs/s2ef/all/base.yml\\nmodel:\\n  basis_width_scalar: 2.0\\n  cutoff: 12.0\\n  distance_function: gaussian\\n  hidden_channels: 256\\n  lmax_list:\\n  - 6\\n  max_neighbors: 20\\n  mmax_list:\\n  - 2\\n  name: escn\\n  num_layers: 12\\n  num_sphere_samples: 128\\n  otf_graph: true\\n  regress_forces: false\\n  sphere_channels: 128\\n  use_pbc: true\\noptim:\\n  batch_size: 6\\n  clip_grad_norm: 20\\n  ema_decay: 0.999\\n  energy_coefficient: 4\\n  eval_batch_size: 6\\n  eval_every: 5000\\n  force_coefficient: 100\\n  loss_energy: mae\\n  loss_force: l2mae\\n  lr_gamma: 0.3\\n  lr_initial: 0.0008\\n  lr_milestones:\\n  - 218750\\n  - 281250\\n  - 343750\\n  max_epochs: 24\\n  num_workers: 8\\n  optimizer: AdamW\\n  optimizer_params:\\n    amsgrad: true\\n  warmup_factor: 0.2\\n  warmup_steps: 100\\ntask:\\n  dataset: ase_db\\ntrainer: energy\\n'"
      ]
     },
     "execution_count": 41,
     "metadata": {},
     "output_type": "execute_result"
    }
   ],
   "source": [
    "from yaml import load, dump\n",
    "from yaml import CLoader as Loader, CDumper as Dumper\n",
    "\n",
    "with open(Path(om.__file__).parent.parent / 'configs/s2ef/all/escn/eSCN-L6-M2-Lay12-All-MD.yml') as f:\n",
    "    d = load(f, Loader=Loader)\n",
    "d['includes'] = []\n",
    "d['model']['regress_forces'] = True\n",
    "d['optim'][force_coefficient] = 0.0\n",
    "\n",
    "d.update(dict(task=dict(dataset='ase_db'),\n",
    "              dataset=dict(train=dict(src='/home/mambauser/tutorial/ocp-tutorial/coverages.db',\n",
    "                                      a2g_args=dict(r_energy=True, r_forces=False),\n",
    "                                      keep_in_memory=True))))\n",
    "with open('test.yml', 'wb') as f:\n",
    "    f.write(dump(d))"
   ]
  },
  {
   "cell_type": "code",
   "execution_count": 56,
   "id": "8d0b9689-7f77-499b-93f3-898444987c3a",
   "metadata": {},
   "outputs": [],
   "source": [
    "with open(Path(om.__file__).parent.parent / 'configs/s2ef/all/base.yml') as f:\n",
    "    yml = load(f, Loader=Loader)\n",
    "\n",
    "with open(Path(om.__file__).parent.parent / 'configs/s2ef/all/escn/eSCN-L6-M2-Lay12-All-MD.yml') as f:\n",
    "    yml.update(load(f, Loader=Loader))\n",
    "    del yml['includes']\n",
    "\n",
    "yml['model']['regress_forces'] = True\n",
    "yml['optim']['force_coefficient'] = 0.0\n",
    "\n",
    "yml.update(dict(task=dict(dataset='ase_db'),\n",
    "                dataset=dict(train=dict(src='/home/mambauser/tutorial/ocp-tutorial/coverages.db',\n",
    "                                      a2g_args=dict(r_energy=True, r_forces=True),\n",
    "                                      keep_in_memory=True))))\n",
    "with open('test.yml', 'wb') as f:\n",
    "    f.write(dump(yml).encode('utf-8'))"
   ]
  },
  {
   "cell_type": "code",
   "execution_count": null,
   "id": "ccbd7da9-4651-4469-8403-abee725e0373",
   "metadata": {},
   "outputs": [],
   "source": [
    "! python ....main.py --config-yml ...."
   ]
  },
  {
   "cell_type": "code",
   "execution_count": null,
   "id": "278eb535-8f05-4ba8-b509-f1040cff4abd",
   "metadata": {},
   "outputs": [],
   "source": []
  },
  {
   "cell_type": "code",
   "execution_count": 55,
   "id": "d3817a89-34f4-44ea-89ee-0f9d12b40dfe",
   "metadata": {},
   "outputs": [
    {
     "name": "stdout",
     "output_type": "stream",
     "text": [
      "dataset:\n",
      "  train:\n",
      "    a2g_args:\n",
      "      r_energy: true\n",
      "      r_forces: false\n",
      "    keep_in_memory: true\n",
      "    src: /home/mambauser/tutorial/ocp-tutorial/coverages.db\n",
      "logger: tensorboard\n",
      "model:\n",
      "  basis_width_scalar: 2.0\n",
      "  cutoff: 12.0\n",
      "  distance_function: gaussian\n",
      "  hidden_channels: 256\n",
      "  lmax_list:\n",
      "  - 6\n",
      "  max_neighbors: 20\n",
      "  mmax_list:\n",
      "  - 2\n",
      "  name: escn\n",
      "  num_layers: 12\n",
      "  num_sphere_samples: 128\n",
      "  otf_graph: true\n",
      "  regress_forces: true\n",
      "  sphere_channels: 128\n",
      "  use_pbc: true\n",
      "optim:\n",
      "  batch_size: 6\n",
      "  clip_grad_norm: 20\n",
      "  ema_decay: 0.999\n",
      "  energy_coefficient: 4\n",
      "  eval_batch_size: 6\n",
      "  eval_every: 5000\n",
      "  force_coefficient: 0.0\n",
      "  loss_energy: mae\n",
      "  loss_force: l2mae\n",
      "  lr_gamma: 0.3\n",
      "  lr_initial: 0.0008\n",
      "  lr_milestones:\n",
      "  - 218750\n",
      "  - 281250\n",
      "  - 343750\n",
      "  max_epochs: 24\n",
      "  num_workers: 8\n",
      "  optimizer: AdamW\n",
      "  optimizer_params:\n",
      "    amsgrad: true\n",
      "  warmup_factor: 0.2\n",
      "  warmup_steps: 100\n",
      "task:\n",
      "  dataset: ase_db\n",
      "trainer: forces\n"
     ]
    }
   ],
   "source": [
    "! cat test.yml"
   ]
  }
 ],
 "metadata": {
  "kernelspec": {
   "display_name": "Python 3 (ipykernel)",
   "language": "python",
   "name": "python3"
  },
  "language_info": {
   "codemirror_mode": {
    "name": "ipython",
    "version": 3
   },
   "file_extension": ".py",
   "mimetype": "text/x-python",
   "name": "python",
   "nbconvert_exporter": "python",
   "pygments_lexer": "ipython3",
   "version": "3.9.15"
  }
 },
 "nbformat": 4,
 "nbformat_minor": 5
}
