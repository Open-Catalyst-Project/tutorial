{
 "cells": [
  {
   "cell_type": "markdown",
   "id": "f2380e6d-34ff-4b60-91fe-7871ccfff250",
   "metadata": {},
   "source": [
    "Introduction to using OCP in molecular simulations\n",
    "=================================================="
   ]
  },
  {
   "cell_type": "markdown",
   "id": "a59b5a77-a143-4ca7-bf8e-943fc929705b",
   "metadata": {},
   "source": [
    "# Calculating adsorption energies\n",
    "\n",
    "We begin with a classical task of computing an adsorption energy in a classical way. \n",
    "\n",
    "Adsorption energies are different than you might be used to in OCP. For example, you may want the adsorption energy of oxygen, and conventionally you would compute that from this reaction:\n",
    "\n",
    "    1/2 O2 + slab -> slab-O\n",
    "\n",
    "We can use OCP to get the total energy of the `slab` and `slab-O`, but we will need another way to get the energy of `1/2 O2`"
   ]
  },
  {
   "cell_type": "markdown",
   "id": "6f8644c3-5798-44ef-9858-0ee97435c331",
   "metadata": {},
   "source": [
    "First we need to make sure we have the checkpoint we want. This is a structure to energy and forces task (S2EF)."
   ]
  },
  {
   "cell_type": "code",
   "execution_count": 1,
   "id": "a3251eca-cb27-4ac6-9b23-5eccddb6e1c6",
   "metadata": {},
   "outputs": [],
   "source": [
    "import os\n",
    "import requests\n",
    "\n",
    "checkpoint = 'escn_l6_m3_lay20_all_md_s2ef.pt'\n",
    "\n",
    "if not os.path.exists(checkpoint):\n",
    "    url = 'https://dl.fbaipublicfiles.com/opencatalystproject/models/2023_03/s2ef/escn_l6_m3_lay20_all_md_s2ef.pt'\n",
    "    #url = 'https://dl.fbaipublicfiles.com/opencatalystproject/models/2022_09/oc22/s2ef/gnoc_oc22_oc20_all_s2ef.pt'\n",
    "    with open(checkpoint, 'wb') as f:\n",
    "        f.write(requests.get(url).content)"
   ]
  },
  {
   "attachments": {},
   "cell_type": "markdown",
   "id": "9fe647ed",
   "metadata": {},
   "source": [
    "Now, we can't compute adsorption energies directly; OCP can give us the energy of slabs and slabs + adsorbates, but it is not trained to give us molecular energies. We need to get these from another source. The ideal source is a DFT calculation that is done consistently with the data that your OCP checkpoint was trained from. An alternative that is less ideal is to use an experimental reference energy. This is considered less ideal because there are known systematic errors between DFT functionals and experimental reference energies, and you will have to do some work to apply a correction for this. \n",
    "\n"
   ]
  },
  {
   "cell_type": "code",
   "execution_count": 2,
   "id": "d35d068c-412d-4669-830e-82dc6eef6d6c",
   "metadata": {},
   "outputs": [
    {
     "ename": "EOFError",
     "evalue": "Ran out of input",
     "output_type": "error",
     "traceback": [
      "\u001b[0;31m---------------------------------------------------------------------------\u001b[0m",
      "\u001b[0;31mEOFError\u001b[0m                                  Traceback (most recent call last)",
      "Cell \u001b[0;32mIn[2], line 2\u001b[0m\n\u001b[1;32m      1\u001b[0m \u001b[39mfrom\u001b[39;00m \u001b[39mocpmodels\u001b[39;00m\u001b[39m.\u001b[39;00m\u001b[39mcommon\u001b[39;00m\u001b[39m.\u001b[39;00m\u001b[39mrelaxation\u001b[39;00m\u001b[39m.\u001b[39;00m\u001b[39mase_utils\u001b[39;00m \u001b[39mimport\u001b[39;00m OCPCalculator\n\u001b[0;32m----> 2\u001b[0m calc \u001b[39m=\u001b[39m OCPCalculator(checkpoint\u001b[39m=\u001b[39;49mos\u001b[39m.\u001b[39;49mpath\u001b[39m.\u001b[39;49mexpanduser(checkpoint))\n",
      "File \u001b[0;32m~/ocp/ocpmodels/common/relaxation/ase_utils.py:122\u001b[0m, in \u001b[0;36mOCPCalculator.__init__\u001b[0;34m(self, config_yml, checkpoint, trainer, cutoff, max_neighbors, cpu)\u001b[0m\n\u001b[1;32m    119\u001b[0m         config[\u001b[39m\"\u001b[39m\u001b[39mdataset\u001b[39m\u001b[39m\"\u001b[39m] \u001b[39m=\u001b[39m config[\u001b[39m\"\u001b[39m\u001b[39mdataset\u001b[39m\u001b[39m\"\u001b[39m]\u001b[39m.\u001b[39mget(\u001b[39m\"\u001b[39m\u001b[39mtrain\u001b[39m\u001b[39m\"\u001b[39m, \u001b[39mNone\u001b[39;00m)\n\u001b[1;32m    120\u001b[0m \u001b[39melse\u001b[39;00m:\n\u001b[1;32m    121\u001b[0m     \u001b[39m# Loads the config from the checkpoint directly (always on CPU).\u001b[39;00m\n\u001b[0;32m--> 122\u001b[0m     config \u001b[39m=\u001b[39m torch\u001b[39m.\u001b[39;49mload(checkpoint, map_location\u001b[39m=\u001b[39;49mtorch\u001b[39m.\u001b[39;49mdevice(\u001b[39m\"\u001b[39;49m\u001b[39mcpu\u001b[39;49m\u001b[39m\"\u001b[39;49m))[\n\u001b[1;32m    123\u001b[0m         \u001b[39m\"\u001b[39m\u001b[39mconfig\u001b[39m\u001b[39m\"\u001b[39m\n\u001b[1;32m    124\u001b[0m     ]\n\u001b[1;32m    125\u001b[0m \u001b[39mif\u001b[39;00m trainer \u001b[39mis\u001b[39;00m \u001b[39mnot\u001b[39;00m \u001b[39mNone\u001b[39;00m:  \u001b[39m# passing the arg overrides everything else\u001b[39;00m\n\u001b[1;32m    126\u001b[0m     config[\u001b[39m\"\u001b[39m\u001b[39mtrainer\u001b[39m\u001b[39m\"\u001b[39m] \u001b[39m=\u001b[39m trainer\n",
      "File \u001b[0;32m/opt/conda/lib/python3.9/site-packages/torch/serialization.py:795\u001b[0m, in \u001b[0;36mload\u001b[0;34m(f, map_location, pickle_module, weights_only, **pickle_load_args)\u001b[0m\n\u001b[1;32m    793\u001b[0m     \u001b[39mexcept\u001b[39;00m \u001b[39mRuntimeError\u001b[39;00m \u001b[39mas\u001b[39;00m e:\n\u001b[1;32m    794\u001b[0m         \u001b[39mraise\u001b[39;00m pickle\u001b[39m.\u001b[39mUnpicklingError(UNSAFE_MESSAGE \u001b[39m+\u001b[39m \u001b[39mstr\u001b[39m(e)) \u001b[39mfrom\u001b[39;00m \u001b[39mNone\u001b[39;00m\n\u001b[0;32m--> 795\u001b[0m \u001b[39mreturn\u001b[39;00m _legacy_load(opened_file, map_location, pickle_module, \u001b[39m*\u001b[39;49m\u001b[39m*\u001b[39;49mpickle_load_args)\n",
      "File \u001b[0;32m/opt/conda/lib/python3.9/site-packages/torch/serialization.py:1002\u001b[0m, in \u001b[0;36m_legacy_load\u001b[0;34m(f, map_location, pickle_module, **pickle_load_args)\u001b[0m\n\u001b[1;32m    996\u001b[0m \u001b[39mif\u001b[39;00m \u001b[39mnot\u001b[39;00m \u001b[39mhasattr\u001b[39m(f, \u001b[39m'\u001b[39m\u001b[39mreadinto\u001b[39m\u001b[39m'\u001b[39m) \u001b[39mand\u001b[39;00m (\u001b[39m3\u001b[39m, \u001b[39m8\u001b[39m, \u001b[39m0\u001b[39m) \u001b[39m<\u001b[39m\u001b[39m=\u001b[39m sys\u001b[39m.\u001b[39mversion_info \u001b[39m<\u001b[39m (\u001b[39m3\u001b[39m, \u001b[39m8\u001b[39m, \u001b[39m2\u001b[39m):\n\u001b[1;32m    997\u001b[0m     \u001b[39mraise\u001b[39;00m \u001b[39mRuntimeError\u001b[39;00m(\n\u001b[1;32m    998\u001b[0m         \u001b[39m\"\u001b[39m\u001b[39mtorch.load does not work with file-like objects that do not implement readinto on Python 3.8.0 and 3.8.1. \u001b[39m\u001b[39m\"\u001b[39m\n\u001b[1;32m    999\u001b[0m         \u001b[39mf\u001b[39m\u001b[39m\"\u001b[39m\u001b[39mReceived object of type \u001b[39m\u001b[39m\\\"\u001b[39;00m\u001b[39m{\u001b[39;00m\u001b[39mtype\u001b[39m(f)\u001b[39m}\u001b[39;00m\u001b[39m\\\"\u001b[39;00m\u001b[39m. Please update to Python 3.8.2 or newer to restore this \u001b[39m\u001b[39m\"\u001b[39m\n\u001b[1;32m   1000\u001b[0m         \u001b[39m\"\u001b[39m\u001b[39mfunctionality.\u001b[39m\u001b[39m\"\u001b[39m)\n\u001b[0;32m-> 1002\u001b[0m magic_number \u001b[39m=\u001b[39m pickle_module\u001b[39m.\u001b[39;49mload(f, \u001b[39m*\u001b[39;49m\u001b[39m*\u001b[39;49mpickle_load_args)\n\u001b[1;32m   1003\u001b[0m \u001b[39mif\u001b[39;00m magic_number \u001b[39m!=\u001b[39m MAGIC_NUMBER:\n\u001b[1;32m   1004\u001b[0m     \u001b[39mraise\u001b[39;00m \u001b[39mRuntimeError\u001b[39;00m(\u001b[39m\"\u001b[39m\u001b[39mInvalid magic number; corrupt file?\u001b[39m\u001b[39m\"\u001b[39m)\n",
      "\u001b[0;31mEOFError\u001b[0m: Ran out of input"
     ]
    }
   ],
   "source": [
    "%%capture\n",
    "from ocpmodels.common.relaxation.ase_utils import OCPCalculator\n",
    "calc = OCPCalculator(checkpoint=os.path.expanduser(checkpoint))"
   ]
  },
  {
   "cell_type": "code",
   "execution_count": null,
   "id": "d92c1cb2",
   "metadata": {},
   "outputs": [],
   "source": []
  },
  {
   "cell_type": "code",
   "execution_count": 12,
   "id": "db5278c3",
   "metadata": {},
   "outputs": [],
   "source": [
    "import numpy as np\n",
    "from ase.build import fcc111, add_adsorbate\n",
    "from ase.constraints import FixAtoms, FixScaled\n",
    "from ase.optimize import BFGS\n",
    "\n",
    "re1 = -3.03 # Water formation energy in eV"
   ]
  },
  {
   "cell_type": "code",
   "execution_count": 3,
   "id": "3c38b62d",
   "metadata": {},
   "outputs": [
    {
     "ename": "NameError",
     "evalue": "name 'fcc111' is not defined",
     "output_type": "error",
     "traceback": [
      "\u001b[0;31m---------------------------------------------------------------------------\u001b[0m",
      "\u001b[0;31mNameError\u001b[0m                                 Traceback (most recent call last)",
      "Cell \u001b[0;32mIn[3], line 1\u001b[0m\n\u001b[0;32m----> 1\u001b[0m slab \u001b[39m=\u001b[39m fcc111(\u001b[39m'\u001b[39m\u001b[39mPt\u001b[39m\u001b[39m'\u001b[39m, size\u001b[39m=\u001b[39m(\u001b[39m2\u001b[39m, \u001b[39m2\u001b[39m, \u001b[39m3\u001b[39m), vacuum\u001b[39m=\u001b[39m\u001b[39m10.0\u001b[39m)\n\u001b[1;32m      2\u001b[0m add_adsorbate(slab, \u001b[39m'\u001b[39m\u001b[39mO\u001b[39m\u001b[39m'\u001b[39m, height\u001b[39m=\u001b[39m\u001b[39m1.2\u001b[39m, position\u001b[39m=\u001b[39m\u001b[39m'\u001b[39m\u001b[39mfcc\u001b[39m\u001b[39m'\u001b[39m)\n\u001b[1;32m      4\u001b[0m slab\u001b[39m.\u001b[39mset_calculator(calc)\n",
      "\u001b[0;31mNameError\u001b[0m: name 'fcc111' is not defined"
     ]
    }
   ],
   "source": [
    "slab = fcc111('Pt', size=(2, 2, 3), vacuum=10.0)\n",
    "add_adsorbate(slab, 'O', height=1.2, position='fcc')\n",
    "\n",
    "slab.set_calculator(calc)\n",
    "opt = BFGS(atoms)\n",
    "opt.run(fmax=0.05, steps=100)\n",
    "slab_e = slab.get_potential_energy()\n",
    "slab_e"
   ]
  },
  {
   "cell_type": "code",
   "execution_count": 16,
   "id": "15584ae5",
   "metadata": {},
   "outputs": [
    {
     "name": "stdout",
     "output_type": "stream",
     "text": [
      "      Step     Time          Energy         fmax\n",
      "BFGS:    0 16:03:38      -67.119247        1.6295\n",
      "BFGS:    1 16:03:39      -67.162376        0.9006\n",
      "BFGS:    2 16:03:39      -67.237015        0.6303\n",
      "BFGS:    3 16:03:40      -67.254639        0.6923\n",
      "BFGS:    4 16:03:40      -67.348862        0.5711\n",
      "BFGS:    5 16:03:41      -67.434280        0.2473\n",
      "BFGS:    6 16:03:41      -67.424904        0.1869\n",
      "BFGS:    7 16:03:42      -67.435570        0.1563\n",
      "BFGS:    8 16:03:42      -67.465027        0.0894\n",
      "BFGS:    9 16:03:43      -67.473831        0.0520\n",
      "BFGS:   10 16:03:43      -67.482109        0.0264\n"
     ]
    },
    {
     "data": {
      "text/plain": [
       "-67.20462036132812"
      ]
     },
     "execution_count": 16,
     "metadata": {},
     "output_type": "execute_result"
    }
   ],
   "source": [
    "add_adsorbate(slab, 'O', height=1.2, position='fcc')\n",
    "\n",
    "opt = BFGS(slab)\n",
    "\n",
    "opt.run(fmax=0.05, steps=100)\n",
    "ads_slab_e = atoms.get_potential_energy()\n",
    "ads_slab_e"
   ]
  },
  {
   "cell_type": "code",
   "execution_count": null,
   "id": "341e11eb",
   "metadata": {},
   "outputs": [],
   "source": []
  }
 ],
 "metadata": {
  "kernelspec": {
   "display_name": "Python 3 (ipykernel)",
   "language": "python",
   "name": "python3"
  },
  "language_info": {
   "codemirror_mode": {
    "name": "ipython",
    "version": 3
   },
   "file_extension": ".py",
   "mimetype": "text/x-python",
   "name": "python",
   "nbconvert_exporter": "python",
   "pygments_lexer": "ipython3",
   "version": "3.9.16"
  }
 },
 "nbformat": 4,
 "nbformat_minor": 5
}
