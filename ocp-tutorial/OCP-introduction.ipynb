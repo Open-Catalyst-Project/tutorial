{
 "cells": [
  {
   "cell_type": "markdown",
   "id": "f2380e6d-34ff-4b60-91fe-7871ccfff250",
   "metadata": {},
   "source": [
    "Introduction to using OCP in molecular simulations\n",
    "=================================================="
   ]
  },
  {
   "cell_type": "markdown",
   "id": "a59b5a77-a143-4ca7-bf8e-943fc929705b",
   "metadata": {},
   "source": [
    "# Calculating adsorption energies\n",
    "\n",
    "We begin with a classical task of computing an adsorption energy in a classical way. \n",
    "\n",
    "Adsorption energies are different than you might be used to in OCP. For example, you may want the adsorption energy of oxygen, and conventionally you would compute that from this reaction:\n",
    "\n",
    "    1/2 O2 + slab -> slab-O\n",
    "\n",
    "We can use OCP to get the total energy of the `slab` and `slab-O`, but we will need another way to get the energy of `1/2 O2`"
   ]
  },
  {
   "cell_type": "markdown",
   "id": "6f8644c3-5798-44ef-9858-0ee97435c331",
   "metadata": {},
   "source": [
    "First we need to make sure we have the checkpoint we want. This is a structure to energy and forces task (S2EF)."
   ]
  },
  {
   "cell_type": "code",
   "execution_count": 1,
   "id": "a3251eca-cb27-4ac6-9b23-5eccddb6e1c6",
   "metadata": {},
   "outputs": [],
   "source": [
    "import os\n",
    "import requests\n",
    "\n",
    "checkpoint = 'gnoc_oc22_oc20_all_s2ef.pt'\n",
    "\n",
    "if not os.path.exists(checkpoint):\n",
    "    url = 'https://dl.fbaipublicfiles.com/opencatalystproject/models/2022_09/oc22/s2ef/gnoc_oc22_oc20_all_s2ef.pt'\n",
    "    requests.get(url)"
   ]
  },
  {
   "cell_type": "code",
   "execution_count": null,
   "id": "d35d068c-412d-4669-830e-82dc6eef6d6c",
   "metadata": {},
   "outputs": [],
   "source": []
  }
 ],
 "metadata": {
  "kernelspec": {
   "display_name": "Python 3 (ipykernel)",
   "language": "python",
   "name": "python3"
  },
  "language_info": {
   "codemirror_mode": {
    "name": "ipython",
    "version": 3
   },
   "file_extension": ".py",
   "mimetype": "text/x-python",
   "name": "python",
   "nbconvert_exporter": "python",
   "pygments_lexer": "ipython3",
   "version": "3.10.11"
  }
 },
 "nbformat": 4,
 "nbformat_minor": 5
}
