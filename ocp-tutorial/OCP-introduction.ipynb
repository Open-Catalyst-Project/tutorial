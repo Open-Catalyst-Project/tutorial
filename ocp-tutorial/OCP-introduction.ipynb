{
 "cells": [
  {
   "cell_type": "markdown",
   "id": "f2380e6d-34ff-4b60-91fe-7871ccfff250",
   "metadata": {},
   "source": [
    "Introduction to using OCP in molecular simulations\n",
    "=================================================="
   ]
  },
  {
   "cell_type": "markdown",
   "id": "a59b5a77-a143-4ca7-bf8e-943fc929705b",
   "metadata": {},
   "source": [
    "# Calculating adsorption energies\n",
    "\n",
    "We begin with a classical task of computing an adsorption energy in a classical way. \n",
    "\n",
    "Adsorption energies are different than you might be used to in OCP. For example, you may want the adsorption energy of oxygen, and conventionally you would compute that from this reaction:\n",
    "\n",
    "    1/2 O2 + slab -> slab-O\n",
    "\n",
    "We can use OCP to get the total energy of the `slab` and `slab-O`, but we will need another way to get the energy of `1/2 O2`"
   ]
  },
  {
   "cell_type": "markdown",
   "id": "6f8644c3-5798-44ef-9858-0ee97435c331",
   "metadata": {},
   "source": [
    "First we need to make sure we have the checkpoint we want. This is a structure to energy and forces task (S2EF)."
   ]
  },
  {
   "cell_type": "code",
   "execution_count": 2,
   "id": "a3251eca-cb27-4ac6-9b23-5eccddb6e1c6",
   "metadata": {},
   "outputs": [],
   "source": [
    "import os\n",
    "import requests\n",
    "\n",
    "checkpoint = 'escn_l6_m3_lay20_all_md_s2ef.pt'\n",
    "\n",
    "if not os.path.exists(checkpoint):\n",
    "    url = 'https://dl.fbaipublicfiles.com/opencatalystproject/models/2023_03/s2ef/escn_l6_m3_lay20_all_md_s2ef.pt'\n",
    "    #url = 'https://dl.fbaipublicfiles.com/opencatalystproject/models/2022_09/oc22/s2ef/gnoc_oc22_oc20_all_s2ef.pt'\n",
    "    with open(checkpoint, 'wb') as f:\n",
    "        f.write(requests.get(url).content)"
   ]
  },
  {
   "cell_type": "code",
   "execution_count": 6,
   "id": "d35d068c-412d-4669-830e-82dc6eef6d6c",
   "metadata": {},
   "outputs": [
    {
     "ename": "AssertionError",
     "evalue": "Torch not compiled with CUDA enabled",
     "output_type": "error",
     "traceback": [
      "\u001b[0;31m---------------------------------------------------------------------------\u001b[0m",
      "\u001b[0;31mAssertionError\u001b[0m                            Traceback (most recent call last)",
      "Cell \u001b[0;32mIn[6], line 2\u001b[0m\n\u001b[1;32m      1\u001b[0m \u001b[39mfrom\u001b[39;00m \u001b[39mocpmodels\u001b[39;00m\u001b[39m.\u001b[39;00m\u001b[39mcommon\u001b[39;00m\u001b[39m.\u001b[39;00m\u001b[39mrelaxation\u001b[39;00m\u001b[39m.\u001b[39;00m\u001b[39mase_utils\u001b[39;00m \u001b[39mimport\u001b[39;00m OCPCalculator\n\u001b[0;32m----> 2\u001b[0m calc \u001b[39m=\u001b[39m OCPCalculator(checkpoint\u001b[39m=\u001b[39;49mos\u001b[39m.\u001b[39;49mpath\u001b[39m.\u001b[39;49mexpanduser(checkpoint), cpu\u001b[39m=\u001b[39;49m\u001b[39mTrue\u001b[39;49;00m)\n",
      "File \u001b[0;32m~/ocp/ocpmodels/common/relaxation/ase_utils.py:159\u001b[0m, in \u001b[0;36mOCPCalculator.__init__\u001b[0;34m(self, config_yml, checkpoint, trainer, cutoff, max_neighbors, cpu)\u001b[0m\n\u001b[1;32m    156\u001b[0m     \u001b[39mdel\u001b[39;00m config[\u001b[39m\"\u001b[39m\u001b[39mdataset\u001b[39m\u001b[39m\"\u001b[39m][\u001b[39m\"\u001b[39m\u001b[39msrc\u001b[39m\u001b[39m\"\u001b[39m]\n\u001b[1;32m    157\u001b[0m     config[\u001b[39m\"\u001b[39m\u001b[39mnormalizer\u001b[39m\u001b[39m\"\u001b[39m] \u001b[39m=\u001b[39m config[\u001b[39m\"\u001b[39m\u001b[39mdataset\u001b[39m\u001b[39m\"\u001b[39m]\n\u001b[0;32m--> 159\u001b[0m \u001b[39mself\u001b[39m\u001b[39m.\u001b[39mtrainer \u001b[39m=\u001b[39m registry\u001b[39m.\u001b[39;49mget_trainer_class(\n\u001b[1;32m    160\u001b[0m     config\u001b[39m.\u001b[39;49mget(\u001b[39m\"\u001b[39;49m\u001b[39mtrainer\u001b[39;49m\u001b[39m\"\u001b[39;49m, \u001b[39m\"\u001b[39;49m\u001b[39menergy\u001b[39;49m\u001b[39m\"\u001b[39;49m)\n\u001b[1;32m    161\u001b[0m )(\n\u001b[1;32m    162\u001b[0m     task\u001b[39m=\u001b[39;49mconfig[\u001b[39m\"\u001b[39;49m\u001b[39mtask\u001b[39;49m\u001b[39m\"\u001b[39;49m],\n\u001b[1;32m    163\u001b[0m     model\u001b[39m=\u001b[39;49mconfig[\u001b[39m\"\u001b[39;49m\u001b[39mmodel\u001b[39;49m\u001b[39m\"\u001b[39;49m],\n\u001b[1;32m    164\u001b[0m     dataset\u001b[39m=\u001b[39;49m\u001b[39mNone\u001b[39;49;00m,\n\u001b[1;32m    165\u001b[0m     normalizer\u001b[39m=\u001b[39;49mconfig[\u001b[39m\"\u001b[39;49m\u001b[39mnormalizer\u001b[39;49m\u001b[39m\"\u001b[39;49m],\n\u001b[1;32m    166\u001b[0m     optimizer\u001b[39m=\u001b[39;49mconfig[\u001b[39m\"\u001b[39;49m\u001b[39moptim\u001b[39;49m\u001b[39m\"\u001b[39;49m],\n\u001b[1;32m    167\u001b[0m     identifier\u001b[39m=\u001b[39;49m\u001b[39m\"\u001b[39;49m\u001b[39m\"\u001b[39;49m,\n\u001b[1;32m    168\u001b[0m     slurm\u001b[39m=\u001b[39;49mconfig\u001b[39m.\u001b[39;49mget(\u001b[39m\"\u001b[39;49m\u001b[39mslurm\u001b[39;49m\u001b[39m\"\u001b[39;49m, {}),\n\u001b[1;32m    169\u001b[0m     local_rank\u001b[39m=\u001b[39;49mconfig\u001b[39m.\u001b[39;49mget(\u001b[39m\"\u001b[39;49m\u001b[39mlocal_rank\u001b[39;49m\u001b[39m\"\u001b[39;49m, \u001b[39m0\u001b[39;49m),\n\u001b[1;32m    170\u001b[0m     is_debug\u001b[39m=\u001b[39;49mconfig\u001b[39m.\u001b[39;49mget(\u001b[39m\"\u001b[39;49m\u001b[39mis_debug\u001b[39;49m\u001b[39m\"\u001b[39;49m, \u001b[39mTrue\u001b[39;49;00m),\n\u001b[1;32m    171\u001b[0m     cpu\u001b[39m=\u001b[39;49mcpu,\n\u001b[1;32m    172\u001b[0m )\n\u001b[1;32m    174\u001b[0m \u001b[39mif\u001b[39;00m checkpoint \u001b[39mis\u001b[39;00m \u001b[39mnot\u001b[39;00m \u001b[39mNone\u001b[39;00m:\n\u001b[1;32m    175\u001b[0m     \u001b[39mself\u001b[39m\u001b[39m.\u001b[39mload_checkpoint(checkpoint)\n",
      "File \u001b[0;32m~/ocp/ocpmodels/trainers/forces_trainer.py:88\u001b[0m, in \u001b[0;36mForcesTrainer.__init__\u001b[0;34m(self, task, model, dataset, optimizer, identifier, normalizer, timestamp_id, run_dir, is_debug, is_hpo, print_every, seed, logger, local_rank, amp, cpu, slurm, noddp)\u001b[0m\n\u001b[1;32m     67\u001b[0m \u001b[39mdef\u001b[39;00m \u001b[39m__init__\u001b[39m(\n\u001b[1;32m     68\u001b[0m     \u001b[39mself\u001b[39m,\n\u001b[1;32m     69\u001b[0m     task,\n\u001b[0;32m   (...)\u001b[0m\n\u001b[1;32m     86\u001b[0m     noddp\u001b[39m=\u001b[39m\u001b[39mFalse\u001b[39;00m,\n\u001b[1;32m     87\u001b[0m ):\n\u001b[0;32m---> 88\u001b[0m     \u001b[39msuper\u001b[39;49m()\u001b[39m.\u001b[39;49m\u001b[39m__init__\u001b[39;49m(\n\u001b[1;32m     89\u001b[0m         task\u001b[39m=\u001b[39;49mtask,\n\u001b[1;32m     90\u001b[0m         model\u001b[39m=\u001b[39;49mmodel,\n\u001b[1;32m     91\u001b[0m         dataset\u001b[39m=\u001b[39;49mdataset,\n\u001b[1;32m     92\u001b[0m         optimizer\u001b[39m=\u001b[39;49moptimizer,\n\u001b[1;32m     93\u001b[0m         identifier\u001b[39m=\u001b[39;49midentifier,\n\u001b[1;32m     94\u001b[0m         normalizer\u001b[39m=\u001b[39;49mnormalizer,\n\u001b[1;32m     95\u001b[0m         timestamp_id\u001b[39m=\u001b[39;49mtimestamp_id,\n\u001b[1;32m     96\u001b[0m         run_dir\u001b[39m=\u001b[39;49mrun_dir,\n\u001b[1;32m     97\u001b[0m         is_debug\u001b[39m=\u001b[39;49mis_debug,\n\u001b[1;32m     98\u001b[0m         is_hpo\u001b[39m=\u001b[39;49mis_hpo,\n\u001b[1;32m     99\u001b[0m         print_every\u001b[39m=\u001b[39;49mprint_every,\n\u001b[1;32m    100\u001b[0m         seed\u001b[39m=\u001b[39;49mseed,\n\u001b[1;32m    101\u001b[0m         logger\u001b[39m=\u001b[39;49mlogger,\n\u001b[1;32m    102\u001b[0m         local_rank\u001b[39m=\u001b[39;49mlocal_rank,\n\u001b[1;32m    103\u001b[0m         amp\u001b[39m=\u001b[39;49mamp,\n\u001b[1;32m    104\u001b[0m         cpu\u001b[39m=\u001b[39;49mcpu,\n\u001b[1;32m    105\u001b[0m         name\u001b[39m=\u001b[39;49m\u001b[39m\"\u001b[39;49m\u001b[39ms2ef\u001b[39;49m\u001b[39m\"\u001b[39;49m,\n\u001b[1;32m    106\u001b[0m         slurm\u001b[39m=\u001b[39;49mslurm,\n\u001b[1;32m    107\u001b[0m         noddp\u001b[39m=\u001b[39;49mnoddp,\n\u001b[1;32m    108\u001b[0m     )\n",
      "File \u001b[0;32m~/ocp/ocpmodels/trainers/base_trainer.py:205\u001b[0m, in \u001b[0;36mBaseTrainer.__init__\u001b[0;34m(self, task, model, dataset, optimizer, identifier, normalizer, timestamp_id, run_dir, is_debug, is_hpo, print_every, seed, logger, local_rank, amp, cpu, name, slurm, noddp)\u001b[0m\n\u001b[1;32m    203\u001b[0m \u001b[39mif\u001b[39;00m distutils\u001b[39m.\u001b[39mis_master():\n\u001b[1;32m    204\u001b[0m     \u001b[39mprint\u001b[39m(yaml\u001b[39m.\u001b[39mdump(\u001b[39mself\u001b[39m\u001b[39m.\u001b[39mconfig, default_flow_style\u001b[39m=\u001b[39m\u001b[39mFalse\u001b[39;00m))\n\u001b[0;32m--> 205\u001b[0m \u001b[39mself\u001b[39;49m\u001b[39m.\u001b[39;49mload()\n\u001b[1;32m    207\u001b[0m \u001b[39mself\u001b[39m\u001b[39m.\u001b[39mevaluator \u001b[39m=\u001b[39m Evaluator(task\u001b[39m=\u001b[39mname)\n",
      "File \u001b[0;32m~/ocp/ocpmodels/trainers/base_trainer.py:214\u001b[0m, in \u001b[0;36mBaseTrainer.load\u001b[0;34m(self)\u001b[0m\n\u001b[1;32m    212\u001b[0m \u001b[39mself\u001b[39m\u001b[39m.\u001b[39mload_datasets()\n\u001b[1;32m    213\u001b[0m \u001b[39mself\u001b[39m\u001b[39m.\u001b[39mload_task()\n\u001b[0;32m--> 214\u001b[0m \u001b[39mself\u001b[39;49m\u001b[39m.\u001b[39;49mload_model()\n\u001b[1;32m    215\u001b[0m \u001b[39mself\u001b[39m\u001b[39m.\u001b[39mload_loss()\n\u001b[1;32m    216\u001b[0m \u001b[39mself\u001b[39m\u001b[39m.\u001b[39mload_optimizer()\n",
      "File \u001b[0;32m~/ocp/ocpmodels/trainers/base_trainer.py:369\u001b[0m, in \u001b[0;36mBaseTrainer.load_model\u001b[0;34m(self)\u001b[0m\n\u001b[1;32m    364\u001b[0m bond_feat_dim \u001b[39m=\u001b[39m \u001b[39mself\u001b[39m\u001b[39m.\u001b[39mconfig[\u001b[39m\"\u001b[39m\u001b[39mmodel_attributes\u001b[39m\u001b[39m\"\u001b[39m]\u001b[39m.\u001b[39mget(\n\u001b[1;32m    365\u001b[0m     \u001b[39m\"\u001b[39m\u001b[39mnum_gaussians\u001b[39m\u001b[39m\"\u001b[39m, \u001b[39m50\u001b[39m\n\u001b[1;32m    366\u001b[0m )\n\u001b[1;32m    368\u001b[0m loader \u001b[39m=\u001b[39m \u001b[39mself\u001b[39m\u001b[39m.\u001b[39mtrain_loader \u001b[39mor\u001b[39;00m \u001b[39mself\u001b[39m\u001b[39m.\u001b[39mval_loader \u001b[39mor\u001b[39;00m \u001b[39mself\u001b[39m\u001b[39m.\u001b[39mtest_loader\n\u001b[0;32m--> 369\u001b[0m \u001b[39mself\u001b[39m\u001b[39m.\u001b[39mmodel \u001b[39m=\u001b[39m registry\u001b[39m.\u001b[39;49mget_model_class(\u001b[39mself\u001b[39;49m\u001b[39m.\u001b[39;49mconfig[\u001b[39m\"\u001b[39;49m\u001b[39mmodel\u001b[39;49m\u001b[39m\"\u001b[39;49m])(\n\u001b[1;32m    370\u001b[0m     loader\u001b[39m.\u001b[39;49mdataset[\u001b[39m0\u001b[39;49m]\u001b[39m.\u001b[39;49mx\u001b[39m.\u001b[39;49mshape[\u001b[39m-\u001b[39;49m\u001b[39m1\u001b[39;49m]\n\u001b[1;32m    371\u001b[0m     \u001b[39mif\u001b[39;49;00m loader\n\u001b[1;32m    372\u001b[0m     \u001b[39mand\u001b[39;49;00m \u001b[39mhasattr\u001b[39;49m(loader\u001b[39m.\u001b[39;49mdataset[\u001b[39m0\u001b[39;49m], \u001b[39m\"\u001b[39;49m\u001b[39mx\u001b[39;49m\u001b[39m\"\u001b[39;49m)\n\u001b[1;32m    373\u001b[0m     \u001b[39mand\u001b[39;49;00m loader\u001b[39m.\u001b[39;49mdataset[\u001b[39m0\u001b[39;49m]\u001b[39m.\u001b[39;49mx \u001b[39mis\u001b[39;49;00m \u001b[39mnot\u001b[39;49;00m \u001b[39mNone\u001b[39;49;00m\n\u001b[1;32m    374\u001b[0m     \u001b[39melse\u001b[39;49;00m \u001b[39mNone\u001b[39;49;00m,\n\u001b[1;32m    375\u001b[0m     bond_feat_dim,\n\u001b[1;32m    376\u001b[0m     \u001b[39mself\u001b[39;49m\u001b[39m.\u001b[39;49mnum_targets,\n\u001b[1;32m    377\u001b[0m     \u001b[39m*\u001b[39;49m\u001b[39m*\u001b[39;49m\u001b[39mself\u001b[39;49m\u001b[39m.\u001b[39;49mconfig[\u001b[39m\"\u001b[39;49m\u001b[39mmodel_attributes\u001b[39;49m\u001b[39m\"\u001b[39;49m],\n\u001b[1;32m    378\u001b[0m )\u001b[39m.\u001b[39mto(\u001b[39mself\u001b[39m\u001b[39m.\u001b[39mdevice)\n\u001b[1;32m    380\u001b[0m \u001b[39mif\u001b[39;00m distutils\u001b[39m.\u001b[39mis_master():\n\u001b[1;32m    381\u001b[0m     logging\u001b[39m.\u001b[39minfo(\n\u001b[1;32m    382\u001b[0m         \u001b[39mf\u001b[39m\u001b[39m\"\u001b[39m\u001b[39mLoaded \u001b[39m\u001b[39m{\u001b[39;00m\u001b[39mself\u001b[39m\u001b[39m.\u001b[39mmodel\u001b[39m.\u001b[39m\u001b[39m__class__\u001b[39m\u001b[39m.\u001b[39m\u001b[39m__name__\u001b[39m\u001b[39m}\u001b[39;00m\u001b[39m with \u001b[39m\u001b[39m\"\u001b[39m\n\u001b[1;32m    383\u001b[0m         \u001b[39mf\u001b[39m\u001b[39m\"\u001b[39m\u001b[39m{\u001b[39;00m\u001b[39mself\u001b[39m\u001b[39m.\u001b[39mmodel\u001b[39m.\u001b[39mnum_params\u001b[39m}\u001b[39;00m\u001b[39m parameters.\u001b[39m\u001b[39m\"\u001b[39m\n\u001b[1;32m    384\u001b[0m     )\n",
      "File \u001b[0;32m~/ocp/ocpmodels/models/escn/escn.py:121\u001b[0m, in \u001b[0;36meSCN.__init__\u001b[0;34m(self, num_atoms, bond_feat_dim, num_targets, use_pbc, regress_forces, otf_graph, max_neighbors, cutoff, max_num_elements, num_layers, lmax_list, mmax_list, sphere_channels, hidden_channels, edge_channels, use_grid, num_sphere_samples, distance_function, basis_width_scalar, distance_resolution, show_timing_info)\u001b[0m\n\u001b[1;32m    119\u001b[0m \u001b[39mself\u001b[39m\u001b[39m.\u001b[39mbasis_width_scalar \u001b[39m=\u001b[39m basis_width_scalar\n\u001b[1;32m    120\u001b[0m \u001b[39mself\u001b[39m\u001b[39m.\u001b[39mdistance_function \u001b[39m=\u001b[39m distance_function\n\u001b[0;32m--> 121\u001b[0m \u001b[39mself\u001b[39m\u001b[39m.\u001b[39mdevice \u001b[39m=\u001b[39m torch\u001b[39m.\u001b[39;49mcuda\u001b[39m.\u001b[39;49mcurrent_device()\n\u001b[1;32m    123\u001b[0m \u001b[39m# variables used for display purposes\u001b[39;00m\n\u001b[1;32m    124\u001b[0m \u001b[39mself\u001b[39m\u001b[39m.\u001b[39mcounter \u001b[39m=\u001b[39m \u001b[39m0\u001b[39m\n",
      "File \u001b[0;32m/opt/conda/lib/python3.9/site-packages/torch/cuda/__init__.py:552\u001b[0m, in \u001b[0;36mcurrent_device\u001b[0;34m()\u001b[0m\n\u001b[1;32m    550\u001b[0m \u001b[39mdef\u001b[39;00m \u001b[39mcurrent_device\u001b[39m() \u001b[39m-\u001b[39m\u001b[39m>\u001b[39m \u001b[39mint\u001b[39m:\n\u001b[1;32m    551\u001b[0m \u001b[39m    \u001b[39m\u001b[39mr\u001b[39m\u001b[39m\"\"\"Returns the index of a currently selected device.\"\"\"\u001b[39;00m\n\u001b[0;32m--> 552\u001b[0m     _lazy_init()\n\u001b[1;32m    553\u001b[0m     \u001b[39mreturn\u001b[39;00m torch\u001b[39m.\u001b[39m_C\u001b[39m.\u001b[39m_cuda_getDevice()\n",
      "File \u001b[0;32m/opt/conda/lib/python3.9/site-packages/torch/cuda/__init__.py:221\u001b[0m, in \u001b[0;36m_lazy_init\u001b[0;34m()\u001b[0m\n\u001b[1;32m    217\u001b[0m     \u001b[39mraise\u001b[39;00m \u001b[39mRuntimeError\u001b[39;00m(\n\u001b[1;32m    218\u001b[0m         \u001b[39m\"\u001b[39m\u001b[39mCannot re-initialize CUDA in forked subprocess. To use CUDA with \u001b[39m\u001b[39m\"\u001b[39m\n\u001b[1;32m    219\u001b[0m         \u001b[39m\"\u001b[39m\u001b[39mmultiprocessing, you must use the \u001b[39m\u001b[39m'\u001b[39m\u001b[39mspawn\u001b[39m\u001b[39m'\u001b[39m\u001b[39m start method\u001b[39m\u001b[39m\"\u001b[39m)\n\u001b[1;32m    220\u001b[0m \u001b[39mif\u001b[39;00m \u001b[39mnot\u001b[39;00m \u001b[39mhasattr\u001b[39m(torch\u001b[39m.\u001b[39m_C, \u001b[39m'\u001b[39m\u001b[39m_cuda_getDeviceCount\u001b[39m\u001b[39m'\u001b[39m):\n\u001b[0;32m--> 221\u001b[0m     \u001b[39mraise\u001b[39;00m \u001b[39mAssertionError\u001b[39;00m(\u001b[39m\"\u001b[39m\u001b[39mTorch not compiled with CUDA enabled\u001b[39m\u001b[39m\"\u001b[39m)\n\u001b[1;32m    222\u001b[0m \u001b[39mif\u001b[39;00m _cudart \u001b[39mis\u001b[39;00m \u001b[39mNone\u001b[39;00m:\n\u001b[1;32m    223\u001b[0m     \u001b[39mraise\u001b[39;00m \u001b[39mAssertionError\u001b[39;00m(\n\u001b[1;32m    224\u001b[0m         \u001b[39m\"\u001b[39m\u001b[39mlibcudart functions unavailable. It looks like you have a broken build?\u001b[39m\u001b[39m\"\u001b[39m)\n",
      "\u001b[0;31mAssertionError\u001b[0m: Torch not compiled with CUDA enabled"
     ]
    }
   ],
   "source": [
    "%%capture\n",
    "from ocpmodels.common.relaxation.ase_utils import OCPCalculator\n",
    "calc = OCPCalculator(checkpoint=os.path.expanduser(checkpoint), cpu=True)"
   ]
  },
  {
   "cell_type": "code",
   "execution_count": null,
   "id": "d92c1cb2",
   "metadata": {},
   "outputs": [],
   "source": []
  },
  {
   "cell_type": "code",
   "execution_count": 12,
   "id": "db5278c3",
   "metadata": {},
   "outputs": [],
   "source": [
    "import numpy as np\n",
    "from ase.build import fcc111, add_adsorbate\n",
    "from ase.constraints import FixAtoms, FixScaled\n",
    "from ase.optimize import BFGS\n",
    "\n",
    "re1 = -3.03 # Water formation energy in eV"
   ]
  },
  {
   "cell_type": "code",
   "execution_count": 3,
   "id": "3c38b62d",
   "metadata": {},
   "outputs": [
    {
     "ename": "NameError",
     "evalue": "name 'fcc111' is not defined",
     "output_type": "error",
     "traceback": [
      "\u001b[0;31m---------------------------------------------------------------------------\u001b[0m",
      "\u001b[0;31mNameError\u001b[0m                                 Traceback (most recent call last)",
      "Cell \u001b[0;32mIn[3], line 1\u001b[0m\n\u001b[0;32m----> 1\u001b[0m slab \u001b[39m=\u001b[39m fcc111(\u001b[39m'\u001b[39m\u001b[39mPt\u001b[39m\u001b[39m'\u001b[39m, size\u001b[39m=\u001b[39m(\u001b[39m2\u001b[39m, \u001b[39m2\u001b[39m, \u001b[39m3\u001b[39m), vacuum\u001b[39m=\u001b[39m\u001b[39m10.0\u001b[39m)\n\u001b[1;32m      2\u001b[0m add_adsorbate(slab, \u001b[39m'\u001b[39m\u001b[39mO\u001b[39m\u001b[39m'\u001b[39m, height\u001b[39m=\u001b[39m\u001b[39m1.2\u001b[39m, position\u001b[39m=\u001b[39m\u001b[39m'\u001b[39m\u001b[39mfcc\u001b[39m\u001b[39m'\u001b[39m)\n\u001b[1;32m      4\u001b[0m slab\u001b[39m.\u001b[39mset_calculator(calc)\n",
      "\u001b[0;31mNameError\u001b[0m: name 'fcc111' is not defined"
     ]
    }
   ],
   "source": [
    "slab = fcc111('Pt', size=(2, 2, 3), vacuum=10.0)\n",
    "add_adsorbate(slab, 'O', height=1.2, position='fcc')\n",
    "\n",
    "slab.set_calculator(calc)\n",
    "opt = BFGS(atoms)\n",
    "opt.run(fmax=0.05, steps=100)\n",
    "slab_e = slab.get_potential_energy()\n",
    "slab_e"
   ]
  },
  {
   "cell_type": "code",
   "execution_count": 16,
   "id": "15584ae5",
   "metadata": {},
   "outputs": [
    {
     "name": "stdout",
     "output_type": "stream",
     "text": [
      "      Step     Time          Energy         fmax\n",
      "BFGS:    0 16:03:38      -67.119247        1.6295\n",
      "BFGS:    1 16:03:39      -67.162376        0.9006\n",
      "BFGS:    2 16:03:39      -67.237015        0.6303\n",
      "BFGS:    3 16:03:40      -67.254639        0.6923\n",
      "BFGS:    4 16:03:40      -67.348862        0.5711\n",
      "BFGS:    5 16:03:41      -67.434280        0.2473\n",
      "BFGS:    6 16:03:41      -67.424904        0.1869\n",
      "BFGS:    7 16:03:42      -67.435570        0.1563\n",
      "BFGS:    8 16:03:42      -67.465027        0.0894\n",
      "BFGS:    9 16:03:43      -67.473831        0.0520\n",
      "BFGS:   10 16:03:43      -67.482109        0.0264\n"
     ]
    },
    {
     "data": {
      "text/plain": [
       "-67.20462036132812"
      ]
     },
     "execution_count": 16,
     "metadata": {},
     "output_type": "execute_result"
    }
   ],
   "source": [
    "add_adsorbate(slab, 'O', height=1.2, position='fcc')\n",
    "\n",
    "opt = BFGS(slab)\n",
    "\n",
    "opt.run(fmax=0.05, steps=100)\n",
    "ads_slab_e = atoms.get_potential_energy()\n",
    "ads_slab_e"
   ]
  },
  {
   "cell_type": "code",
   "execution_count": null,
   "id": "341e11eb",
   "metadata": {},
   "outputs": [],
   "source": []
  }
 ],
 "metadata": {
  "kernelspec": {
   "display_name": "Python 3 (ipykernel)",
   "language": "python",
   "name": "python3"
  },
  "language_info": {
   "codemirror_mode": {
    "name": "ipython",
    "version": 3
   },
   "file_extension": ".py",
   "mimetype": "text/x-python",
   "name": "python",
   "nbconvert_exporter": "python",
   "pygments_lexer": "ipython3",
   "version": "3.9.16"
  }
 },
 "nbformat": 4,
 "nbformat_minor": 5
}
