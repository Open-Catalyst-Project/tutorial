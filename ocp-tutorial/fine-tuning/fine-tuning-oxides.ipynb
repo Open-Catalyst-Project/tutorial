{
 "cells": [
  {
   "cell_type": "code",
   "execution_count": 1,
   "id": "275cc96c-02c6-4c85-b6d5-a34209e15ff3",
   "metadata": {},
   "outputs": [
    {
     "data": {
      "text/plain": [
       "(['SnO2', 'IrO2', 'RuO2', 'TiO2', 'VO2'],\n",
       " ['rutile', 'pyrite', 'columbite', 'brookite', 'fluorite', 'anatase'])"
      ]
     },
     "execution_count": 1,
     "metadata": {},
     "output_type": "execute_result"
    }
   ],
   "source": [
    "import json\n",
    "import numpy as np\n",
    "import matplotlib.pyplot as plt\n",
    "from ase import Atoms\n",
    "\n",
    "with open('supporting-information.json', 'rb') as f:\n",
    "     d = json.loads(f.read())\n",
    "        \n",
    "\n",
    "oxides = list(d.keys())\n",
    "polymorphs = list(d['TiO2'].keys())\n",
    "oxides, polymorphs"
   ]
  },
  {
   "cell_type": "code",
   "execution_count": 3,
   "id": "62272174-ce79-40f3-90da-b72ae8bbf7d9",
   "metadata": {},
   "outputs": [
    {
     "data": {
      "text/plain": [
       "(Atoms(symbols='Ti2O4', pbc=True, cell=[4.3789762519649225, 4.3789762519649225, 2.864091775985314], tags=...),\n",
       " -56.230672,\n",
       " [[0.0, 0.0, 0.0],\n",
       "  [0.0, 0.0, 0.0],\n",
       "  [-0.001264, -0.001264, 0.0],\n",
       "  [0.001264, 0.001264, 0.0],\n",
       "  [-0.001264, 0.001264, 0.0],\n",
       "  [0.001264, -0.001264, 0.0]])"
      ]
     },
     "execution_count": 3,
     "metadata": {},
     "output_type": "execute_result"
    }
   ],
   "source": [
    "c = d['TiO2']['rutile']['PBE']['EOS']['calculations'][0]\n",
    "atoms = Atoms(symbols=c['atoms']['symbols'],\n",
    "                 positions=c['atoms']['positions'],\n",
    "             cell=c['atoms']['cell'],\n",
    "             pbc=c['atoms']['pbc'])\n",
    "atoms.set_tags(np.ones(len(atoms)))\n",
    "atoms, c['data']['total_energy'], c['data']['forces']"
   ]
  },
  {
   "cell_type": "code",
   "execution_count": 7,
   "id": "70f7babf-f0cb-42f3-a3d6-b8d4bc1b694b",
   "metadata": {},
   "outputs": [],
   "source": [
    "from ase.db import connect\n",
    "from ase.calculators.singlepoint import SinglePointCalculator\n",
    "\n",
    "! rm -fr oxides.db\n",
    "db = connect('oxides.db')"
   ]
  },
  {
   "cell_type": "code",
   "execution_count": 8,
   "id": "d54b598a-2d68-4818-8b9f-b72c96ff28ac",
   "metadata": {},
   "outputs": [],
   "source": [
    "for oxide in oxides:\n",
    "    for polymorph in polymorphs:\n",
    "        for c in d[oxide][polymorph]['PBE']['EOS']['calculations']:\n",
    "            atoms = Atoms(symbols=c['atoms']['symbols'],\n",
    "                          positions=c['atoms']['positions'],\n",
    "                          cell=c['atoms']['cell'],\n",
    "                          pbc=c['atoms']['pbc'])\n",
    "            atoms.set_tags(np.ones(len(atoms)))\n",
    "            calc = SinglePointCalculator(atoms, \n",
    "                                         energy=c['data']['total_energy'],\n",
    "                                         forces=c['data']['forces'])\n",
    "            atoms.set_calculator(calc)\n",
    "            db.write(atoms)"
   ]
  },
  {
   "cell_type": "markdown",
   "id": "f45a2e84-f50c-4ab5-8bb6-ad96e023faed",
   "metadata": {},
   "source": [
    "Let's see what we made."
   ]
  },
  {
   "cell_type": "code",
   "execution_count": 9,
   "id": "f2b208c5-e5f0-4052-b860-27446a19e974",
   "metadata": {},
   "outputs": [
    {
     "name": "stdout",
     "output_type": "stream",
     "text": [
      "id|age|user     |formula|calculator| energy|natoms| fmax|pbc| volume|charge|   mass\n",
      " 1|22s|mambauser|Sn2O4  |unknown   |-41.359|     6|0.045|TTT| 64.258| 0.000|301.416\n",
      " 2|22s|mambauser|Sn2O4  |unknown   |-41.853|     6|0.025|TTT| 66.526| 0.000|301.416\n",
      " 3|22s|mambauser|Sn2O4  |unknown   |-42.199|     6|0.010|TTT| 68.794| 0.000|301.416\n",
      " 4|21s|mambauser|Sn2O4  |unknown   |-42.419|     6|0.006|TTT| 71.062| 0.000|301.416\n",
      " 5|21s|mambauser|Sn2O4  |unknown   |-42.534|     6|0.011|TTT| 73.330| 0.000|301.416\n",
      " 6|21s|mambauser|Sn2O4  |unknown   |-42.562|     6|0.029|TTT| 75.598| 0.000|301.416\n",
      " 7|21s|mambauser|Sn2O4  |unknown   |-42.518|     6|0.033|TTT| 77.866| 0.000|301.416\n",
      " 8|21s|mambauser|Sn2O4  |unknown   |-42.415|     6|0.010|TTT| 80.134| 0.000|301.416\n",
      " 9|21s|mambauser|Sn2O4  |unknown   |-42.266|     6|0.006|TTT| 82.402| 0.000|301.416\n",
      "10|21s|mambauser|Sn2O4  |unknown   |-42.083|     6|0.017|TTT| 84.670| 0.000|301.416\n",
      "11|21s|mambauser|Sn4O8  |unknown   |-81.424|    12|0.012|TTT|117.473| 0.000|602.832\n",
      "12|21s|mambauser|Sn4O8  |unknown   |-82.437|    12|0.005|TTT|121.620| 0.000|602.832\n",
      "13|21s|mambauser|Sn4O8  |unknown   |-83.147|    12|0.015|TTT|125.766| 0.000|602.832\n",
      "14|21s|mambauser|Sn4O8  |unknown   |-83.599|    12|0.047|TTT|129.912| 0.000|602.832\n",
      "15|21s|mambauser|Sn4O8  |unknown   |-83.831|    12|0.081|TTT|134.058| 0.000|602.832\n",
      "16|21s|mambauser|Sn4O8  |unknown   |-83.898|    12|0.001|TTT|138.204| 0.000|602.832\n",
      "17|21s|mambauser|Sn4O8  |unknown   |-83.805|    12|0.001|TTT|142.350| 0.000|602.832\n",
      "18|21s|mambauser|Sn4O8  |unknown   |-83.586|    12|0.002|TTT|146.496| 0.000|602.832\n",
      "19|21s|mambauser|Sn4O8  |unknown   |-83.262|    12|0.002|TTT|150.642| 0.000|602.832\n",
      "20|20s|mambauser|Sn4O8  |unknown   |-82.851|    12|0.013|TTT|154.788| 0.000|602.832\n",
      "Rows: 295 (showing first 20)\n"
     ]
    }
   ],
   "source": [
    "! ase db oxides.db"
   ]
  },
  {
   "cell_type": "code",
   "execution_count": 11,
   "id": "5a010cc5-d514-47f0-ab36-7dc2406a51b9",
   "metadata": {},
   "outputs": [],
   "source": [
    "! wget -q -nc https://dl.fbaipublicfiles.com/opencatalystproject/models/2022_09/oc22/s2ef/gnoc_oc22_oc20_all_s2ef.pt"
   ]
  }
 ],
 "metadata": {
  "kernelspec": {
   "display_name": "Python 3 (ipykernel)",
   "language": "python",
   "name": "python3"
  },
  "language_info": {
   "codemirror_mode": {
    "name": "ipython",
    "version": 3
   },
   "file_extension": ".py",
   "mimetype": "text/x-python",
   "name": "python",
   "nbconvert_exporter": "python",
   "pygments_lexer": "ipython3",
   "version": "3.9.17"
  }
 },
 "nbformat": 4,
 "nbformat_minor": 5
}
