{
 "cells": [
  {
   "cell_type": "markdown",
   "id": "5636b76b",
   "metadata": {},
   "source": [
    "# Fine tuning a model\n",
    "\n",
    "In this section we look at how to improve a model. We start by using a pre-trained model to predict the energies of several oxide polymorphs. The data here comes from this paper:\n",
    "\n",
    "Identifying Potential BO<sub>2</sub> Oxide Polymorphs for Epitaxial Growth Candidates\n",
    "Mehta, P., Salvador, P. A., & Kitchin, J. R. (2015). Identifying potential BO2 oxide polymorphs for epitaxial growth candidates. ACS Appl. Mater. Interfaces, 6(5), 3630–3639. http://dx.doi.org/10.1021/am4059149.\n",
    "\n",
    "This data set shows equations of state for several oxide/polymorph combinations. I use this dataset to compare with predictions from OCP"
   ]
  },
  {
   "cell_type": "markdown",
   "id": "d371f4bb",
   "metadata": {},
   "source": [
    "First we get the checkpoint that we want. According to the [MODELS](https://github.com/Open-Catalyst-Project/ocp/blob/main/MODELS.md#s2ef-models) the GemNet-OC\tOC20+OC22 combination has an energy MAE of 0.483 which seems like a good place to start. This model was trained on oxides.\n",
    "\n",
    "We get this checkpoint here."
   ]
  },
  {
   "cell_type": "code",
   "execution_count": 1,
   "id": "d9084dad",
   "metadata": {},
   "outputs": [],
   "source": [
    "%run ../ocp-tutorial.ipynb  # load some helper functions\n",
    "checkpoint = get_checkpoint('GemNet-OC OC20+OC22')"
   ]
  },
  {
   "cell_type": "markdown",
   "id": "2725bff2",
   "metadata": {},
   "source": [
    "The data we need is provided in `supporting-information.json`. That file is embedded in the supporting information for the article, and is provided here in the tutorial. We load this data and explore it a little. The json file provides a dictionary with the structure:\n",
    "\n",
    "    [oxide][polymorph][xc][EOS][configurations]\n",
    "    \n",
    "The first key is a composition, the second is a string for the polymorph structure, the third indicates which XC functional was used (we focus on PBE here), the fourth key is for the Equation of State calculations, and the last key is a list of results for the EOS. "
   ]
  },
  {
   "cell_type": "code",
   "execution_count": 2,
   "id": "275cc96c-02c6-4c85-b6d5-a34209e15ff3",
   "metadata": {},
   "outputs": [
    {
     "data": {
      "text/plain": [
       "(['SnO2', 'IrO2', 'RuO2', 'TiO2', 'VO2'],\n",
       " ['rutile', 'pyrite', 'columbite', 'brookite', 'fluorite', 'anatase'])"
      ]
     },
     "execution_count": 2,
     "metadata": {},
     "output_type": "execute_result"
    }
   ],
   "source": [
    "import json\n",
    "import numpy as np\n",
    "import matplotlib.pyplot as plt\n",
    "from ase import Atoms\n",
    "\n",
    "with open('supporting-information.json', 'rb') as f:\n",
    "     d = json.loads(f.read())\n",
    "        \n",
    "\n",
    "oxides = list(d.keys())\n",
    "polymorphs = list(d['TiO2'].keys())\n",
    "oxides, polymorphs"
   ]
  },
  {
   "cell_type": "markdown",
   "id": "c2f1e6e9",
   "metadata": {},
   "source": [
    "A specific calculation has a lot of details in it. You can use this to recreate the calculations. Shortly we will use these to compare the DFT results to OCP."
   ]
  },
  {
   "cell_type": "code",
   "execution_count": 3,
   "id": "fa21de30",
   "metadata": {},
   "outputs": [
    {
     "data": {
      "text/plain": [
       "{'incar': {'doc': 'INCAR parameters',\n",
       "  'prec': 'Normal',\n",
       "  'isif': 4,\n",
       "  'nbands': 20,\n",
       "  'ibrion': 2,\n",
       "  'gga': 'PE',\n",
       "  'encut': 520.0,\n",
       "  'ismear': 0,\n",
       "  'sigma': 0.001,\n",
       "  'nsw': 50},\n",
       " 'doc': 'JSON representation of a VASP calculation.\\n\\nenergy is in eV\\nforces are in eV/\\\\AA\\nstress is in GPa (sxx, syy, szz,  syz, sxz, sxy)\\nmagnetic moments are in Bohr-magneton\\nThe density of states is reported with E_f at 0 eV.\\nVolume is reported in \\\\AA^3\\nCoordinates and cell parameters are reported in \\\\AA\\n\\nIf atom-projected dos are included they are in the form:\\n{ados:{energy:data, {atom index: {orbital : dos}}}\\n',\n",
       " 'potcar': [['O',\n",
       "   'potpaw/O/POTCAR',\n",
       "   '0cf2ce56049ca395c567026b700ed66c94a85161'],\n",
       "  ['Ti', 'potpaw/Ti/POTCAR', '51f7f05982d6b4052becc160375a8b8b670177a7']],\n",
       " 'input': {'kpts': [6, 6, 6],\n",
       "  'reciprocal': False,\n",
       "  'xc': 'LDA',\n",
       "  'kpts_nintersections': None,\n",
       "  'setups': None,\n",
       "  'txt': '-',\n",
       "  'gamma': False},\n",
       " 'atoms': {'cell': [[4.3789762519649225, 0.0, 0.0],\n",
       "   [0.0, 4.3789762519649225, 0.0],\n",
       "   [0.0, 0.0, 2.864091775985314]],\n",
       "  'symbols': ['Ti', 'Ti', 'O', 'O', 'O', 'O'],\n",
       "  'tags': [0, 0, 0, 0, 0, 0],\n",
       "  'pbc': [True, True, True],\n",
       "  'positions': [[0.0, 0.0, 0.0],\n",
       "   [2.1894881259824612, 2.1894881259824612, 1.432045887992657],\n",
       "   [1.3181554154438013, 1.3181554154438013, 0.0],\n",
       "   [3.0608208365211214, 3.0608208365211214, 0.0],\n",
       "   [3.5076435414262623, 0.87133271053866, 1.432045887992657],\n",
       "   [0.87133271053866, 3.5076435414262623, 1.432045887992657]]},\n",
       " 'data': {'stress': [496.18519999, 496.18519999, 502.82679392, 0.0, 0.0, 0.0],\n",
       "  'doc': 'Data from the output of the calculation',\n",
       "  'volume': 54.92019999999996,\n",
       "  'total_energy': -56.230672,\n",
       "  'forces': [[0.0, 0.0, 0.0],\n",
       "   [0.0, 0.0, 0.0],\n",
       "   [-0.001264, -0.001264, 0.0],\n",
       "   [0.001264, 0.001264, 0.0],\n",
       "   [-0.001264, 0.001264, 0.0],\n",
       "   [0.001264, -0.001264, 0.0]],\n",
       "  'fermi_level': 3.153}}"
      ]
     },
     "execution_count": 3,
     "metadata": {},
     "output_type": "execute_result"
    }
   ],
   "source": [
    "d['TiO2']['rutile']['PBE']['EOS']['calculations'][0]"
   ]
  },
  {
   "cell_type": "markdown",
   "id": "fd526f52",
   "metadata": {},
   "source": [
    "For each result we can retrieve the atomic geometry, energy and forces from the json file. We use these to recreate an Atoms object. Here is an example."
   ]
  },
  {
   "cell_type": "code",
   "execution_count": 4,
   "id": "62272174-ce79-40f3-90da-b72ae8bbf7d9",
   "metadata": {},
   "outputs": [
    {
     "data": {
      "text/plain": [
       "(Atoms(symbols='Ti2O4', pbc=True, cell=[4.3789762519649225, 4.3789762519649225, 2.864091775985314], tags=...),\n",
       " -56.230672,\n",
       " [[0.0, 0.0, 0.0],\n",
       "  [0.0, 0.0, 0.0],\n",
       "  [-0.001264, -0.001264, 0.0],\n",
       "  [0.001264, 0.001264, 0.0],\n",
       "  [-0.001264, 0.001264, 0.0],\n",
       "  [0.001264, -0.001264, 0.0]])"
      ]
     },
     "execution_count": 4,
     "metadata": {},
     "output_type": "execute_result"
    }
   ],
   "source": [
    "c = d['TiO2']['rutile']['PBE']['EOS']['calculations'][0]\n",
    "atoms = Atoms(symbols=c['atoms']['symbols'],\n",
    "              positions=c['atoms']['positions'],\n",
    "              cell=c['atoms']['cell'],\n",
    "              pbc=c['atoms']['pbc'])\n",
    "atoms.set_tags(np.ones(len(atoms)))\n",
    "atoms, c['data']['total_energy'], c['data']['forces']"
   ]
  },
  {
   "cell_type": "markdown",
   "id": "16c0dc05",
   "metadata": {},
   "source": [
    "Next, we will create an OCP calculator that we can use to get predictions from."
   ]
  },
  {
   "cell_type": "code",
   "execution_count": 5,
   "id": "16714a2c",
   "metadata": {},
   "outputs": [
    {
     "name": "stderr",
     "output_type": "stream",
     "text": [
      "WARNING:root:Unrecognized arguments: ['symmetric_edge_symmetrization']\n"
     ]
    }
   ],
   "source": [
    "from ocpmodels.common.relaxation.ase_utils import OCPCalculator\n",
    "calc = OCPCalculator(checkpoint=checkpoint, trainer='forces', cpu=False)"
   ]
  },
  {
   "cell_type": "markdown",
   "id": "5699b283",
   "metadata": {},
   "source": [
    "Now, we loop through each structure and accumulate the OCP predictions. Then, we plot the parity results."
   ]
  },
  {
   "cell_type": "code",
   "execution_count": 6,
   "id": "6f16d7d3",
   "metadata": {},
   "outputs": [
    {
     "name": "stdout",
     "output_type": "stream",
     "text": [
      "Elapsed time 14.7 seconds.\n"
     ]
    },
    {
     "data": {
      "image/png": "[encoded data removed]",
      "text/plain": [
       "<Figure size 640x480 with 1 Axes>"
      ]
     },
     "metadata": {},
     "output_type": "display_data"
    }
   ],
   "source": [
    "import time\n",
    "t0 = time.time()\n",
    "\n",
    "eos_data = {}\n",
    "for oxide in oxides:\n",
    "    eos_data[oxide] = {}\n",
    "    for polymorph in polymorphs:\n",
    "        dft = []\n",
    "        ocp = []\n",
    "        vols = []\n",
    "        calculations = d[oxide][polymorph]['PBE']['EOS']['calculations']\n",
    "        for c in calculations:\n",
    "                        \n",
    "            atoms = Atoms(symbols=c['atoms']['symbols'],\n",
    "                          positions=c['atoms']['positions'],\n",
    "                          cell=c['atoms']['cell'],\n",
    "                          pbc=c['atoms']['pbc'])\n",
    "            atoms.set_tags(np.ones(len(atoms)))\n",
    "            \n",
    "            atoms.calc = calc\n",
    "            ocp += [atoms.get_potential_energy() / len(atoms)]\n",
    "            dft += [c['data']['total_energy'] / len(atoms)]\n",
    "            vols += [atoms.get_volume()]\n",
    "        plt.plot(dft, ocp, marker='s' if oxide == 'VO2' else '.',\n",
    "                 alpha=0.5, label=f'{oxide}-{polymorph}')\n",
    "        eos_data[oxide][polymorph] = (vols, dft, ocp)\n",
    "        \n",
    "plt.xlabel('DFT (eV/atom)')\n",
    "plt.ylabel('OCP (eV/atom)')\n",
    "plt.legend(loc='center left', bbox_to_anchor=(1, 0.5), ncol=3);\n",
    "print(f'Elapsed time {time.time() - t0:1.1f} seconds.')"
   ]
  },
  {
   "cell_type": "code",
   "execution_count": 7,
   "id": "08b80d3d",
   "metadata": {},
   "outputs": [
    {
     "name": "stdout",
     "output_type": "stream",
     "text": [
      "MAE = 1.668 eV/atom\n"
     ]
    }
   ],
   "source": [
    "mae = np.mean(np.abs(np.array(dft) - np.array(ocp)))\n",
    "print(f'MAE = {mae:1.3f} eV/atom')"
   ]
  },
  {
   "cell_type": "markdown",
   "id": "497c9e8b",
   "metadata": {},
   "source": [
    "The MAE is somewhat high compared to the reported value of 0.458 eV. That is not too surprising; although OC22 was trained on oxides, it was not trained on all of these structures. It is also evident on inspection that the main issues are all the VO2 structures, and these skew the MAE. Next we look at the EOS for each material. Here you can see offsets, and qualitative issues in the shapes. The offset is largely a PBE/RPBE difference.\n",
    "\n",
    "Some notable issues are with fluorite structures. We show one here for VO2.  "
   ]
  },
  {
   "cell_type": "code",
   "execution_count": 8,
   "id": "589db155",
   "metadata": {},
   "outputs": [
    {
     "data": {
      "image/png": "[encoded data removed]",
      "text/plain": [
       "<Figure size 640x480 with 1 Axes>"
      ]
     },
     "metadata": {},
     "output_type": "display_data"
    }
   ],
   "source": [
    "oxide, polymorph = 'VO2', 'fluorite'\n",
    "V, D, O = eos_data[oxide][polymorph]\n",
    "        \n",
    "plt.plot(V, D, label='dft')\n",
    "plt.plot(V, O, label='ocp')\n",
    "plt.title(f'pretrained {oxide} - {polymorph}')\n",
    "plt.legend();"
   ]
  },
  {
   "cell_type": "markdown",
   "id": "e3fdc72d",
   "metadata": {},
   "source": [
    "We can improve this by fine-tuning the model."
   ]
  },
  {
   "cell_type": "markdown",
   "id": "ce9cfebb",
   "metadata": {},
   "source": [
    "# Fine tuning the checkpoint\n",
    "\n",
    "There are severeal steps in fine-tuning:\n",
    "1. Create train, test, val datasets\n",
    "2. Create a configuration yml file\n",
    "3. Run the training\n",
    "4. Check the results\n",
    "\n",
    "First we create the training databases. OCP supports ase databases, so we use those here. The first step is to make a database containing the data. We need to write an atoms object with an attached SinglePointCalculator for each structure."
   ]
  },
  {
   "cell_type": "code",
   "execution_count": 9,
   "id": "70f7babf-f0cb-42f3-a3d6-b8d4bc1b694b",
   "metadata": {},
   "outputs": [],
   "source": [
    "from ase.db import connect\n",
    "from ase.calculators.singlepoint import SinglePointCalculator\n",
    "\n",
    "! rm -fr oxides.db  # start clean when you run this cell\n",
    "db = connect('oxides.db')"
   ]
  },
  {
   "cell_type": "code",
   "execution_count": 10,
   "id": "d54b598a-2d68-4818-8b9f-b72c96ff28ac",
   "metadata": {},
   "outputs": [],
   "source": [
    "for oxide in oxides:\n",
    "    for polymorph in polymorphs:\n",
    "        for c in d[oxide][polymorph]['PBE']['EOS']['calculations']:\n",
    "            atoms = Atoms(symbols=c['atoms']['symbols'],\n",
    "                          positions=c['atoms']['positions'],\n",
    "                          cell=c['atoms']['cell'],\n",
    "                          pbc=c['atoms']['pbc'])\n",
    "            atoms.set_tags(np.ones(len(atoms)))\n",
    "            calc = SinglePointCalculator(atoms, \n",
    "                                         energy=c['data']['total_energy'],\n",
    "                                         forces=c['data']['forces'])\n",
    "            atoms.set_calculator(calc)\n",
    "            db.write(atoms)"
   ]
  },
  {
   "cell_type": "markdown",
   "id": "f45a2e84-f50c-4ab5-8bb6-ad96e023faed",
   "metadata": {},
   "source": [
    "Let's see what we made."
   ]
  },
  {
   "cell_type": "code",
   "execution_count": 11,
   "id": "f2b208c5-e5f0-4052-b860-27446a19e974",
   "metadata": {},
   "outputs": [
    {
     "name": "stdout",
     "output_type": "stream",
     "text": [
      "id|age|formula|calculator| energy|natoms| fmax|pbc| volume|charge|   mass\r\n",
      " 1| 3s|Sn2O4  |unknown   |-41.359|     6|0.045|TTT| 64.258| 0.000|301.416\r\n",
      " 2| 3s|Sn2O4  |unknown   |-41.853|     6|0.025|TTT| 66.526| 0.000|301.416\r\n",
      " 3| 3s|Sn2O4  |unknown   |-42.199|     6|0.010|TTT| 68.794| 0.000|301.416\r\n",
      " 4| 3s|Sn2O4  |unknown   |-42.419|     6|0.006|TTT| 71.062| 0.000|301.416\r\n",
      " 5| 3s|Sn2O4  |unknown   |-42.534|     6|0.011|TTT| 73.330| 0.000|301.416\r\n",
      " 6| 3s|Sn2O4  |unknown   |-42.562|     6|0.029|TTT| 75.598| 0.000|301.416\r\n",
      " 7| 3s|Sn2O4  |unknown   |-42.518|     6|0.033|TTT| 77.866| 0.000|301.416\r\n",
      " 8| 3s|Sn2O4  |unknown   |-42.415|     6|0.010|TTT| 80.134| 0.000|301.416\r\n",
      " 9| 3s|Sn2O4  |unknown   |-42.266|     6|0.006|TTT| 82.402| 0.000|301.416\r\n",
      "10| 3s|Sn2O4  |unknown   |-42.083|     6|0.017|TTT| 84.670| 0.000|301.416\r\n",
      "11| 3s|Sn4O8  |unknown   |-81.424|    12|0.012|TTT|117.473| 0.000|602.832\r\n",
      "12| 3s|Sn4O8  |unknown   |-82.437|    12|0.005|TTT|121.620| 0.000|602.832\r\n",
      "13| 3s|Sn4O8  |unknown   |-83.147|    12|0.015|TTT|125.766| 0.000|602.832\r\n",
      "14| 3s|Sn4O8  |unknown   |-83.599|    12|0.047|TTT|129.912| 0.000|602.832\r\n",
      "15| 3s|Sn4O8  |unknown   |-83.831|    12|0.081|TTT|134.058| 0.000|602.832\r\n",
      "16| 3s|Sn4O8  |unknown   |-83.898|    12|0.001|TTT|138.204| 0.000|602.832\r\n",
      "17| 3s|Sn4O8  |unknown   |-83.805|    12|0.001|TTT|142.350| 0.000|602.832\r\n",
      "18| 3s|Sn4O8  |unknown   |-83.586|    12|0.002|TTT|146.496| 0.000|602.832\r\n",
      "19| 3s|Sn4O8  |unknown   |-83.262|    12|0.002|TTT|150.642| 0.000|602.832\r\n",
      "20| 3s|Sn4O8  |unknown   |-82.851|    12|0.013|TTT|154.788| 0.000|602.832\r\n",
      "Rows: 295 (showing first 20)\r\n"
     ]
    }
   ],
   "source": [
    "! ase db oxides.db"
   ]
  },
  {
   "cell_type": "markdown",
   "id": "4c682dbc",
   "metadata": {},
   "source": [
    "## Make the train, test, val splits\n",
    "\n",
    "We need to split the ase-db into three separate databases, one for training (80%), one for testing (10%) and one for validation. We generate a list of ids and then shuffle them. Then we write the first 80% into `train.db`, the next 10% into `test.db`, and the remaining into `val.db`.\n",
    "\n",
    "The train set is used for training. The test and val sets are used to check for overfitting.\n",
    "\n",
    "You choose the splits you want, 80:10:10 is common. We take a simple approach to split the database here. We make an array of integers that correspond to the ids, randomly shuffle them, and then get each row in the randomized order and write them to a new db.\n",
    "\n",
    "We provide some helper functions in [../ocp-tutorial.ipynb](../ocp-tutorial.ipynb) to streamline this process. "
   ]
  },
  {
   "cell_type": "code",
   "execution_count": 12,
   "id": "da1dbbe5",
   "metadata": {},
   "outputs": [
    {
     "data": {
      "text/plain": [
       "(PosixPath('/home/jovyan/shared-scratch/jkitchin/tutorial/ocp-tutorial/fine-tuning/train.db'),\n",
       " PosixPath('/home/jovyan/shared-scratch/jkitchin/tutorial/ocp-tutorial/fine-tuning/test.db'),\n",
       " PosixPath('/home/jovyan/shared-scratch/jkitchin/tutorial/ocp-tutorial/fine-tuning/val.db'))"
      ]
     },
     "execution_count": 12,
     "metadata": {},
     "output_type": "execute_result"
    }
   ],
   "source": [
    "! rm -fr train.db test.db val.db\n",
    "train, test, val = train_test_val_split('oxides.db')\n",
    "train, test, val"
   ]
  },
  {
   "cell_type": "markdown",
   "id": "a0184f93",
   "metadata": {},
   "source": [
    "## Setting up the configuration yaml file\n",
    "\n",
    "We have to create a yaml configuration file for the model we are using. The pre-trained checkpoints contain their config data, so we use this to get the base configuration, and then remove pieces we don't need, and update pieces we do need."
   ]
  },
  {
   "cell_type": "code",
   "execution_count": 18,
   "id": "9cd9f378",
   "metadata": {},
   "outputs": [
    {
     "name": "stderr",
     "output_type": "stream",
     "text": [
      "WARNING:root:Unable to identify OCP trainer, defaulting to `forces`. Specify the `trainer` argument into OCPCalculator if otherwise.\n",
      "WARNING:root:Unrecognized arguments: ['symmetric_edge_symmetrization']\n"
     ]
    },
    {
     "data": {
      "text/plain": [
       "PosixPath('/home/jovyan/shared-scratch/jkitchin/tutorial/ocp-tutorial/fine-tuning/config.yml')"
      ]
     },
     "execution_count": 18,
     "metadata": {},
     "output_type": "execute_result"
    }
   ],
   "source": [
    "yml = generate_yml_config(checkpoint, 'config.yml',\n",
    "                   delete=['slurm', 'cmd', 'logger', 'task', 'model_attributes',\n",
    "                           'optim.loss_force', # the checkpoint setting causes an error\n",
    "                           'dataset', 'test_dataset', 'val_dataset'],\n",
    "                   update={'gpus': 1,\n",
    "                           'task.dataset': 'ase_db',\n",
    "                           'optim.eval_every': 1,\n",
    "                           'optim.max_epochs': 10,\n",
    "                           # Train data\n",
    "                           'dataset.train.src': 'train.db',\n",
    "                           'dataset.train.a2g_args.r_energy': True,\n",
    "                           'dataset.train.a2g_args.r_forces': True,\n",
    "                            # Test data - prediction only so no regression\n",
    "                           'dataset.test.src': 'test.db',\n",
    "                           'dataset.test.a2g_args.r_energy': False,\n",
    "                           'dataset.test.a2g_args.r_forces': False,\n",
    "                           # val data\n",
    "                           'dataset.val.src': 'val.db',\n",
    "                           'dataset.val.a2g_args.r_energy': True,\n",
    "                           'dataset.val.a2g_args.r_forces': True,\n",
    "                          })\n",
    "\n",
    "yml"
   ]
  },
  {
   "cell_type": "code",
   "execution_count": 19,
   "id": "f1b42096",
   "metadata": {},
   "outputs": [
    {
     "name": "stdout",
     "output_type": "stream",
     "text": [
      "amp: true\r\n",
      "checkpoint: gnoc_oc22_oc20_all_s2ef.pt\r\n",
      "dataset:\r\n",
      "  test:\r\n",
      "    a2g_args:\r\n",
      "      r_energy: false\r\n",
      "      r_forces: false\r\n",
      "    src: test.db\r\n",
      "  train:\r\n",
      "    a2g_args:\r\n",
      "      r_energy: true\r\n",
      "      r_forces: true\r\n",
      "    src: train.db\r\n",
      "  val:\r\n",
      "    a2g_args:\r\n",
      "      r_energy: true\r\n",
      "      r_forces: true\r\n",
      "    src: val.db\r\n",
      "gpus: 1\r\n",
      "model:\r\n",
      "  activation: silu\r\n",
      "  atom_edge_interaction: true\r\n",
      "  atom_interaction: true\r\n",
      "  cbf:\r\n",
      "    name: spherical_harmonics\r\n",
      "  cutoff: 12.0\r\n",
      "  cutoff_aeaint: 12.0\r\n",
      "  cutoff_aint: 12.0\r\n",
      "  cutoff_qint: 12.0\r\n",
      "  direct_forces: true\r\n",
      "  edge_atom_interaction: true\r\n",
      "  emb_size_aint_in: 64\r\n",
      "  emb_size_aint_out: 64\r\n",
      "  emb_size_atom: 256\r\n",
      "  emb_size_cbf: 16\r\n",
      "  emb_size_edge: 512\r\n",
      "  emb_size_quad_in: 32\r\n",
      "  emb_size_quad_out: 32\r\n",
      "  emb_size_rbf: 16\r\n",
      "  emb_size_sbf: 32\r\n",
      "  emb_size_trip_in: 64\r\n",
      "  emb_size_trip_out: 64\r\n",
      "  envelope:\r\n",
      "    exponent: 5\r\n",
      "    name: polynomial\r\n",
      "  extensive: true\r\n",
      "  forces_coupled: false\r\n",
      "  max_neighbors: 30\r\n",
      "  max_neighbors_aeaint: 20\r\n",
      "  max_neighbors_aint: 1000\r\n",
      "  max_neighbors_qint: 8\r\n",
      "  name: gemnet_oc\r\n",
      "  num_after_skip: 2\r\n",
      "  num_atom: 3\r\n",
      "  num_atom_emb_layers: 2\r\n",
      "  num_before_skip: 2\r\n",
      "  num_blocks: 4\r\n",
      "  num_concat: 1\r\n",
      "  num_global_out_layers: 2\r\n",
      "  num_output_afteratom: 3\r\n",
      "  num_radial: 128\r\n",
      "  num_spherical: 7\r\n",
      "  otf_graph: true\r\n",
      "  output_init: HeOrthogonal\r\n",
      "  qint_tags:\r\n",
      "  - 1\r\n",
      "  - 2\r\n",
      "  quad_interaction: true\r\n",
      "  rbf:\r\n",
      "    name: gaussian\r\n",
      "  regress_forces: true\r\n",
      "  sbf:\r\n",
      "    name: legendre_outer\r\n",
      "  symmetric_edge_symmetrization: false\r\n",
      "noddp: false\r\n",
      "optim:\r\n",
      "  batch_size: 16\r\n",
      "  clip_grad_norm: 10\r\n",
      "  ema_decay: 0.999\r\n",
      "  energy_coefficient: 1\r\n",
      "  eval_batch_size: 16\r\n",
      "  eval_every: 1\r\n",
      "  factor: 0.8\r\n",
      "  force_coefficient: 1\r\n",
      "  load_balancing: atoms\r\n",
      "  loss_energy: mae\r\n",
      "  lr_initial: 0.0005\r\n",
      "  max_epochs: 10\r\n",
      "  mode: min\r\n",
      "  num_workers: 2\r\n",
      "  optimizer: AdamW\r\n",
      "  optimizer_params:\r\n",
      "    amsgrad: true\r\n",
      "  patience: 3\r\n",
      "  scheduler: ReduceLROnPlateau\r\n",
      "  weight_decay: 0\r\n",
      "task:\r\n",
      "  dataset: ase_db\r\n",
      "trainer: forces\r\n"
     ]
    }
   ],
   "source": [
    "! cat config.yml"
   ]
  },
  {
   "cell_type": "markdown",
   "id": "c792be40",
   "metadata": {},
   "source": [
    "## Running the training job\n",
    "\n",
    "`ocp` provides a `main.py` file that is used for training. Here we construct the Python command you need to run, and run it. `main.py` is not executable, so we have to run it with python, and you need the absolute path to it, which we get from the `ocp_main()` that is defined in the [utilities](../ocp-tutorial.ipynb).\n",
    "\n",
    "you must set a `mode` and provide a `config-yml`. We provide a checkpoint for a starting point, if you don't do this, it will start from scratch. \n",
    "\n",
    "By default the files that are created go in a directories called `checkpoints`, `logs` and `results`. You can change that with a `--run-dir preferred-place` option.\n",
    "\n",
    "You can also add an identifier tag to the end of the timestamps with `--identifier tag`. This can make it easier to find them later.\n",
    "\n",
    "The cell below uses some IPython magic to put Python variables in the shell command.\n",
    "\n",
    "This command takes some time to run even on a GPU, e.g. about 30 minutes. \n",
    "\n",
    "It is advisable to redirect the outputs to files. The reason is that if the outputs are very large, the notebook may not be able to be saved. This also makes your notebooks more reproducible. The checkpoints are stored in time-stamped directories that change everytime you run them. Below we show how to reproducibly retrieve this directory name in a way that allows you to run the notebook again later, while automatically updating the directory name.\n",
    "\n",
    "You can follow how the training is going by opening a terminal and running\n",
    "\n",
    "    tail -f train.txt\n",
    "    \n",
    "You can also visit it in a browser at [train.txt](./train.txt). You have to periodically refresh the view to see updates though.\n",
    "\n",
    "This can take up to 30 minutes for 80 epochs, so we only do a few here to see what happens."
   ]
  },
  {
   "cell_type": "code",
   "execution_count": 21,
   "id": "3c6dd86a",
   "metadata": {
    "tags": [
     "hide-output"
    ]
   },
   "outputs": [
    {
     "name": "stdout",
     "output_type": "stream",
     "text": [
      "Elapsed time = 189.9 seconds\n"
     ]
    }
   ],
   "source": [
    "import time\n",
    "t0 = time.time()\n",
    "! python {ocp_main()} --mode train --config-yml $yml --checkpoint $checkpoint \\\n",
    "  --run-dir fine-tuning --identifier ft-oxides --amp > train.txt 2>&1 \n",
    "print(f'Elapsed time = {time.time() - t0:1.1f} seconds')"
   ]
  },
  {
   "cell_type": "markdown",
   "id": "62bb640d",
   "metadata": {},
   "source": [
    "Now since we have a file, we can find the training results in it. See [train.txt](./train.txt). At the top, the config is printed, so we can get the checkpoint directory. I use shell commands and Python to get the line, split and strip it here."
   ]
  },
  {
   "cell_type": "code",
   "execution_count": 16,
   "id": "02fb267e",
   "metadata": {},
   "outputs": [
    {
     "data": {
      "text/plain": [
       "'fine-tuning/checkpoints/2023-08-02-23-15-12-ft-oxides'"
      ]
     },
     "execution_count": 16,
     "metadata": {},
     "output_type": "execute_result"
    }
   ],
   "source": [
    "cpline = !grep \"checkpoint_dir:\" train.txt\n",
    "cpdir = cpline[0].split(':')[-1].strip()\n",
    "cpdir"
   ]
  },
  {
   "cell_type": "markdown",
   "id": "446a4885",
   "metadata": {},
   "source": [
    "There will be two files in there: `checkpoint.pt` and `best_checkpoint.pt`. \n",
    "\n",
    "The `best_checkpoint.pt` is the one that performs best on the validation dataset. The `checkpoint.pt` is the most recently saved one. Probably it has the lowest loss in training, but this could be an indication of overfitting. You have to use some judgement in determining which one to use, and if it is sufficiently accurate for your needs. It may need additional training to further improve it."
   ]
  },
  {
   "cell_type": "code",
   "execution_count": 17,
   "id": "e32a397b",
   "metadata": {},
   "outputs": [
    {
     "ename": "RuntimeError",
     "evalue": "PytorchStreamReader failed locating file data.pkl: file not found",
     "output_type": "error",
     "traceback": [
      "\u001b[0;31m---------------------------------------------------------------------------\u001b[0m",
      "\u001b[0;31mRuntimeError\u001b[0m                              Traceback (most recent call last)",
      "Cell \u001b[0;32mIn[17], line 2\u001b[0m\n\u001b[1;32m      1\u001b[0m newckpt \u001b[38;5;241m=\u001b[39m cpdir \u001b[38;5;241m+\u001b[39m \u001b[38;5;124m'\u001b[39m\u001b[38;5;124m/checkpoint.pt\u001b[39m\u001b[38;5;124m'\u001b[39m\n\u001b[0;32m----> 2\u001b[0m newcalc \u001b[38;5;241m=\u001b[39m \u001b[43mOCPCalculator\u001b[49m\u001b[43m(\u001b[49m\u001b[43mcheckpoint\u001b[49m\u001b[38;5;241;43m=\u001b[39;49m\u001b[43mnewckpt\u001b[49m\u001b[43m,\u001b[49m\u001b[43m \u001b[49m\u001b[43mcpu\u001b[49m\u001b[38;5;241;43m=\u001b[39;49m\u001b[38;5;28;43;01mFalse\u001b[39;49;00m\u001b[43m)\u001b[49m\n",
      "File \u001b[0;32m~/shared-scratch/jkitchin/ocp/ocpmodels/common/relaxation/ase_utils.py:119\u001b[0m, in \u001b[0;36mOCPCalculator.__init__\u001b[0;34m(self, config_yml, checkpoint, trainer, cutoff, max_neighbors, cpu)\u001b[0m\n\u001b[1;32m    116\u001b[0m         config[\u001b[38;5;124m\"\u001b[39m\u001b[38;5;124mdataset\u001b[39m\u001b[38;5;124m\"\u001b[39m] \u001b[38;5;241m=\u001b[39m config[\u001b[38;5;124m\"\u001b[39m\u001b[38;5;124mdataset\u001b[39m\u001b[38;5;124m\"\u001b[39m]\u001b[38;5;241m.\u001b[39mget(\u001b[38;5;124m\"\u001b[39m\u001b[38;5;124mtrain\u001b[39m\u001b[38;5;124m\"\u001b[39m, \u001b[38;5;28;01mNone\u001b[39;00m)\n\u001b[1;32m    117\u001b[0m \u001b[38;5;28;01melse\u001b[39;00m:\n\u001b[1;32m    118\u001b[0m     \u001b[38;5;66;03m# Loads the config from the checkpoint directly (always on CPU).\u001b[39;00m\n\u001b[0;32m--> 119\u001b[0m     config \u001b[38;5;241m=\u001b[39m \u001b[43mtorch\u001b[49m\u001b[38;5;241;43m.\u001b[39;49m\u001b[43mload\u001b[49m\u001b[43m(\u001b[49m\u001b[43mcheckpoint\u001b[49m\u001b[43m,\u001b[49m\u001b[43m \u001b[49m\u001b[43mmap_location\u001b[49m\u001b[38;5;241;43m=\u001b[39;49m\u001b[43mtorch\u001b[49m\u001b[38;5;241;43m.\u001b[39;49m\u001b[43mdevice\u001b[49m\u001b[43m(\u001b[49m\u001b[38;5;124;43m\"\u001b[39;49m\u001b[38;5;124;43mcpu\u001b[39;49m\u001b[38;5;124;43m\"\u001b[39;49m\u001b[43m)\u001b[49m\u001b[43m)\u001b[49m[\n\u001b[1;32m    120\u001b[0m         \u001b[38;5;124m\"\u001b[39m\u001b[38;5;124mconfig\u001b[39m\u001b[38;5;124m\"\u001b[39m\n\u001b[1;32m    121\u001b[0m     ]\n\u001b[1;32m    122\u001b[0m \u001b[38;5;28;01mif\u001b[39;00m trainer \u001b[38;5;129;01mis\u001b[39;00m \u001b[38;5;129;01mnot\u001b[39;00m \u001b[38;5;28;01mNone\u001b[39;00m:  \u001b[38;5;66;03m# passing the arg overrides everything else\u001b[39;00m\n\u001b[1;32m    123\u001b[0m     config[\u001b[38;5;124m\"\u001b[39m\u001b[38;5;124mtrainer\u001b[39m\u001b[38;5;124m\"\u001b[39m] \u001b[38;5;241m=\u001b[39m trainer\n",
      "File \u001b[0;32m/opt/conda/lib/python3.9/site-packages/torch/serialization.py:789\u001b[0m, in \u001b[0;36mload\u001b[0;34m(f, map_location, pickle_module, weights_only, **pickle_load_args)\u001b[0m\n\u001b[1;32m    787\u001b[0m             \u001b[38;5;28;01mexcept\u001b[39;00m \u001b[38;5;167;01mRuntimeError\u001b[39;00m \u001b[38;5;28;01mas\u001b[39;00m e:\n\u001b[1;32m    788\u001b[0m                 \u001b[38;5;28;01mraise\u001b[39;00m pickle\u001b[38;5;241m.\u001b[39mUnpicklingError(UNSAFE_MESSAGE \u001b[38;5;241m+\u001b[39m \u001b[38;5;28mstr\u001b[39m(e)) \u001b[38;5;28;01mfrom\u001b[39;00m \u001b[38;5;28mNone\u001b[39m\n\u001b[0;32m--> 789\u001b[0m         \u001b[38;5;28;01mreturn\u001b[39;00m \u001b[43m_load\u001b[49m\u001b[43m(\u001b[49m\u001b[43mopened_zipfile\u001b[49m\u001b[43m,\u001b[49m\u001b[43m \u001b[49m\u001b[43mmap_location\u001b[49m\u001b[43m,\u001b[49m\u001b[43m \u001b[49m\u001b[43mpickle_module\u001b[49m\u001b[43m,\u001b[49m\u001b[43m \u001b[49m\u001b[38;5;241;43m*\u001b[39;49m\u001b[38;5;241;43m*\u001b[39;49m\u001b[43mpickle_load_args\u001b[49m\u001b[43m)\u001b[49m\n\u001b[1;32m    790\u001b[0m \u001b[38;5;28;01mif\u001b[39;00m weights_only:\n\u001b[1;32m    791\u001b[0m     \u001b[38;5;28;01mtry\u001b[39;00m:\n",
      "File \u001b[0;32m/opt/conda/lib/python3.9/site-packages/torch/serialization.py:1127\u001b[0m, in \u001b[0;36m_load\u001b[0;34m(zip_file, map_location, pickle_module, pickle_file, **pickle_load_args)\u001b[0m\n\u001b[1;32m   1124\u001b[0m         \u001b[38;5;28;01mreturn\u001b[39;00m \u001b[38;5;28msuper\u001b[39m()\u001b[38;5;241m.\u001b[39mfind_class(mod_name, name)\n\u001b[1;32m   1126\u001b[0m \u001b[38;5;66;03m# Load the data (which may in turn use `persistent_load` to load tensors)\u001b[39;00m\n\u001b[0;32m-> 1127\u001b[0m data_file \u001b[38;5;241m=\u001b[39m io\u001b[38;5;241m.\u001b[39mBytesIO(\u001b[43mzip_file\u001b[49m\u001b[38;5;241;43m.\u001b[39;49m\u001b[43mget_record\u001b[49m\u001b[43m(\u001b[49m\u001b[43mpickle_file\u001b[49m\u001b[43m)\u001b[49m)\n\u001b[1;32m   1129\u001b[0m unpickler \u001b[38;5;241m=\u001b[39m UnpicklerWrapper(data_file, \u001b[38;5;241m*\u001b[39m\u001b[38;5;241m*\u001b[39mpickle_load_args)\n\u001b[1;32m   1130\u001b[0m unpickler\u001b[38;5;241m.\u001b[39mpersistent_load \u001b[38;5;241m=\u001b[39m persistent_load\n",
      "\u001b[0;31mRuntimeError\u001b[0m: PytorchStreamReader failed locating file data.pkl: file not found"
     ]
    }
   ],
   "source": [
    "newckpt = cpdir + '/checkpoint.pt'\n",
    "newcalc = OCPCalculator(checkpoint=newckpt, cpu=False)"
   ]
  },
  {
   "cell_type": "code",
   "execution_count": null,
   "id": "aeee3f79",
   "metadata": {},
   "outputs": [],
   "source": [
    "eos_data = {}\n",
    "for oxide in oxides:\n",
    "    eos_data[oxide] = {}\n",
    "    for polymorph in polymorphs:\n",
    "        dft = []\n",
    "        ocp = []\n",
    "        vols = []\n",
    "        calculations = d[oxide][polymorph]['PBE']['EOS']['calculations']\n",
    "        for c in calculations:\n",
    "                        \n",
    "            atoms = Atoms(symbols=c['atoms']['symbols'],\n",
    "                          positions=c['atoms']['positions'],\n",
    "                          cell=c['atoms']['cell'],\n",
    "                          pbc=c['atoms']['pbc'])\n",
    "            atoms.set_tags(np.ones(len(atoms)))\n",
    "            \n",
    "            atoms.calc = newcalc\n",
    "            ocp += [atoms.get_potential_energy() / len(atoms)]\n",
    "            dft += [c['data']['total_energy'] / len(atoms)]\n",
    "            vols += [atoms.get_volume()]\n",
    "        plt.plot(dft, ocp, marker='s' if oxide == 'VO2' else '.',\n",
    "                 alpha=0.5, label=f'{oxide}-{polymorph}')\n",
    "        eos_data[oxide][polymorph] = (vols, dft, ocp)\n",
    "        \n",
    "plt.xlabel('DFT (eV/atom)')\n",
    "plt.ylabel('OCP (eV/atom)')\n",
    "plt.legend(loc='center left', bbox_to_anchor=(1, 0.5), ncol=3);"
   ]
  },
  {
   "cell_type": "code",
   "execution_count": null,
   "id": "58d5ed35",
   "metadata": {},
   "outputs": [],
   "source": [
    "mae = np.mean(np.abs(np.array(dft) - np.array(ocp)))\n",
    "print(f'New MAE = {mae:1.3f} eV/atom')"
   ]
  },
  {
   "cell_type": "markdown",
   "id": "11a4edbc",
   "metadata": {},
   "source": [
    "This is a substantial improvement! We can see what it means in terms of the Equations of State. There is still not perfect agreement, but the curves are closer together. Additional fine tuning, or a better model could probably still improve this."
   ]
  },
  {
   "cell_type": "code",
   "execution_count": null,
   "id": "c358cd81",
   "metadata": {},
   "outputs": [],
   "source": [
    "oxide, polymorph = 'VO2', 'fluorite'\n",
    "V, D, O = eos_data[oxide][polymorph]\n",
    "        \n",
    "plt.plot(V, D, label='dft')\n",
    "plt.plot(V, O, label='ocp')\n",
    "plt.title(f'fine-tuned {oxide} - {polymorph}')\n",
    "plt.legend();"
   ]
  },
  {
   "cell_type": "markdown",
   "id": "b42b6b4f",
   "metadata": {},
   "source": [
    "It is possible to continue refining the fit. The simple things to do are to use more epochs of training. Eventually the MAE will stabilize, and then it may be necessary to adjust other optimization parameters like the learning rate (usually you decrease it). \n",
    "\n",
    "Depending on what is important to you, you may consider changing the relative importances of energy and forces; you can often trade off accuracy of one for the other. It may be necessary to add additional data to cover the composition and configuration space more thoroughly.\n",
    "\n",
    "There are also other models you could consider. Newer models tend to be more accurate, but they may also be more expensive to run. These are all compromises you can consider."
   ]
  }
 ],
 "metadata": {
  "celltoolbar": "Edit Metadata",
  "kernelspec": {
   "display_name": "Python 3 (ipykernel)",
   "language": "python",
   "name": "python3"
  },
  "language_info": {
   "codemirror_mode": {
    "name": "ipython",
    "version": 3
   },
   "file_extension": ".py",
   "mimetype": "text/x-python",
   "name": "python",
   "nbconvert_exporter": "python",
   "pygments_lexer": "ipython3",
   "version": "3.9.15"
  }
 },
 "nbformat": 4,
 "nbformat_minor": 5
}
